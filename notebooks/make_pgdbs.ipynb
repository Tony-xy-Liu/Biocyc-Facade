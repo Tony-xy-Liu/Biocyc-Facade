{
 "cells": [
  {
   "cell_type": "code",
   "execution_count": 1,
   "metadata": {},
   "outputs": [],
   "source": [
    "from txyl_common.biocyc_facade.pgdb import ImportFromBiocyc"
   ]
  },
  {
   "cell_type": "code",
   "execution_count": 2,
   "metadata": {},
   "outputs": [
    {
     "name": "stdout",
     "output_type": "stream",
     "text": [
      "loading [proteins_dat]\n",
      "\t secondary index: [TYPES] as [PROT_TYPES]\n",
      "\t secondary index: [COMMON-NAME] as [PROT_COMMON_NAME]\n",
      "\t secondary index: [DBLINKS] as [PROT_DB_LINKS]\n",
      "loading [reactions_dat]\n",
      "\t secondary index: [TYPES] as [RXN_TYPES]\n",
      "\t secondary index: [COMMON-NAME] as [RXN_COMMON_NAME]\n",
      "\t secondary index: [EC-NUMBER] as [RXN_EC]\n",
      "\t secondary index: [LEFT] as [CMPD_REACTANTS]\n",
      "\t secondary index: [RIGHT] as [CMPD_PRODUCTS]\n",
      "loading [enzrxns_dat]\n",
      "\t secondary index: [COMMON-NAME] as [ENZ_COMMON_NAME]\n",
      "\t secondary index: [REACTION] as [reactions_dat]\n",
      "\t secondary index: [ENZYME] as [proteins_dat]\n",
      "loading [pathways_dat]\n",
      "\t secondary index: [TYPES] as [PATH_TYPES]\n",
      "\t secondary index: [COMMON-NAME] as [PATH_COMMON_NAME]\n",
      "\t secondary index: [REACTION-LIST] as [reactions_dat]\n",
      "loading [genes_dat]\n",
      "\t secondary index: [DBLINKS] as [GENE_DB_LINKS]\n",
      "\t secondary index: [COMMON-NAME] as [GENE_COMMON_NAME]\n",
      "loading [regulation_dat]\n",
      "loading [compounds_dat]\n",
      "\t secondary index: [TYPES] as [CMPD_TYPES]\n",
      "\t secondary index: [COMMON-NAME] as [CMPD_COMMON_NAME]\n",
      "loading [protein_features_dat]\n",
      "loading [protligandcplxes_dat]\n",
      "loading [rnas_dat]\n",
      "loading [species_dat]\n"
     ]
    },
    {
     "data": {
      "text/plain": [
       "<txyl_common.biocyc_facade.pgdb.Pgdb at 0x7f329573d6c0>"
      ]
     },
     "execution_count": 2,
     "metadata": {},
     "output_type": "execute_result"
    }
   ],
   "source": [
    "ImportFromBiocyc(\n",
    "    '/home/tony/workspace/python/grad/resources/Biocyc-Facade/pgdbs/meta26_0.1_2.pgdb',\n",
    "    '/home/tony/workspace/python/grad/resources/metacyc/26.0/data/',\n",
    ")"
   ]
  },
  {
   "cell_type": "code",
   "execution_count": 3,
   "metadata": {},
   "outputs": [
    {
     "name": "stdout",
     "output_type": "stream",
     "text": [
      "loading [proteins_dat]\n",
      "\t secondary index: [TYPES] as [PROT_TYPES]\n",
      "\t secondary index: [COMMON-NAME] as [PROT_COMMON_NAME]\n",
      "\t secondary index: [DBLINKS] as [PROT_DB_LINKS]\n",
      "loading [reactions_dat]\n",
      "\t secondary index: [TYPES] as [RXN_TYPES]\n",
      "\t secondary index: [COMMON-NAME] as [RXN_COMMON_NAME]\n",
      "\t secondary index: [EC-NUMBER] as [RXN_EC]\n",
      "\t secondary index: [LEFT] as [CMPD_REACTANTS]\n",
      "\t secondary index: [RIGHT] as [CMPD_PRODUCTS]\n",
      "loading [enzrxns_dat]\n",
      "\t secondary index: [COMMON-NAME] as [ENZ_COMMON_NAME]\n",
      "\t secondary index: [REACTION] as [reactions_dat]\n",
      "\t secondary index: [ENZYME] as [proteins_dat]\n",
      "loading [pathways_dat]\n",
      "\t secondary index: [TYPES] as [PATH_TYPES]\n",
      "\t secondary index: [COMMON-NAME] as [PATH_COMMON_NAME]\n",
      "\t secondary index: [REACTION-LIST] as [reactions_dat]\n",
      "loading [genes_dat]\n",
      "\t secondary index: [DBLINKS] as [GENE_DB_LINKS]\n",
      "\t secondary index: [COMMON-NAME] as [GENE_COMMON_NAME]\n",
      "loading [regulation_dat]\n",
      "loading [compounds_dat]\n",
      "\t secondary index: [TYPES] as [CMPD_TYPES]\n",
      "\t secondary index: [COMMON-NAME] as [CMPD_COMMON_NAME]\n",
      "loading [protein_features_dat]\n",
      "loading [protligandcplxes_dat]\n",
      "loading [rnas_dat]\n",
      "loading [species_dat]\n"
     ]
    },
    {
     "data": {
      "text/plain": [
       "<txyl_common.biocyc_facade.pgdb.Pgdb at 0x7f3295f983a0>"
      ]
     },
     "execution_count": 3,
     "metadata": {},
     "output_type": "execute_result"
    }
   ],
   "source": [
    "\n",
    "ImportFromBiocyc(\n",
    "    '/home/tony/workspace/python/grad/resources/Biocyc-Facade/pgdbs/eco26_0.1_2.pgdb',\n",
    "    '/home/tony/workspace/python/grad/resources/ecocyc/26.0/data/',\n",
    ")"
   ]
  }
 ],
 "metadata": {
  "kernelspec": {
   "display_name": "Python 3.10.4 ('p310')",
   "language": "python",
   "name": "python3"
  },
  "language_info": {
   "codemirror_mode": {
    "name": "ipython",
    "version": 3
   },
   "file_extension": ".py",
   "mimetype": "text/x-python",
   "name": "python",
   "nbconvert_exporter": "python",
   "pygments_lexer": "ipython3",
   "version": "3.10.4"
  },
  "orig_nbformat": 4,
  "vscode": {
   "interpreter": {
    "hash": "2435c7440461fadc5a1d9e864caea4455b848895712cb9bd14333ad40094f801"
   }
  }
 },
 "nbformat": 4,
 "nbformat_minor": 2
}
