{
 "cells": [
  {
   "cell_type": "code",
   "execution_count": null,
   "metadata": {},
   "outputs": [],
   "source": [
    "import sys\n",
    "sys.path.append('/home/tony/workspace/python/grad/resources/Biocyc-Facade/src')\n",
    "sys.path = list(set(sys.path))\n",
    "import os\n",
    "import sqlite3"
   ]
  },
  {
   "cell_type": "code",
   "execution_count": null,
   "metadata": {},
   "outputs": [],
   "source": [
    "con = sqlite3.connect('../test/scratch.pgdb')\n",
    "cur = con.cursor()"
   ]
  },
  {
   "cell_type": "code",
   "execution_count": null,
   "metadata": {},
   "outputs": [],
   "source": [
    "cur.execute(f''' \\\n",
    "CREATE TABLE json_keys_of_dats (\n",
    "    key TEXT NOT NULL,\n",
    "    table_name TEXT NOT NULL,\n",
    "    PRIMARY KEY (key),\n",
    "    FOREIGN KEY table_name REFERENCES tables (name)\n",
    ")''')"
   ]
  },
  {
   "cell_type": "code",
   "execution_count": null,
   "metadata": {},
   "outputs": [],
   "source": [
    "# sqlite gives this automatically\n",
    "# CREATE TABLE sqlite_schema (\n",
    "#   type TEXT,\n",
    "#   name TEXT,\n",
    "#   tbl_name TEXT,\n",
    "#   rootpage INTEGER,\n",
    "#   sql TEXT\n",
    "# );\n",
    "for x in cur.execute('select names, type, sql from sqlite_schema where name=\"test\"'):\n",
    "    print(x)"
   ]
  },
  {
   "cell_type": "code",
   "execution_count": null,
   "metadata": {},
   "outputs": [],
   "source": [
    "con.close()"
   ]
  },
  {
   "cell_type": "code",
   "execution_count": null,
   "metadata": {},
   "outputs": [],
   "source": [
    "import sys\n",
    "sys.path.append('/home/tony/workspace/python/grad/resources/Biocyc-Facade/src')\n",
    "sys.path = list(set(sys.path))\n",
    "\n",
    "import os\n",
    "from biocyc_facade.pgdb import ImportFromBiocyc, Pgdb, Dat\n",
    "from biocyc_facade.models.sql import TraceStep\n",
    "\n",
    "DB_DIR = '/home/tony/workspace/python/grad/resources/Biocyc-Facade/test'\n",
    "ECO = f'{DB_DIR}/eco'\n",
    "\n",
    "os.system(f'rm {ECO}.pgdb')\n",
    "edb = ImportFromBiocyc(ECO, '/home/tony/workspace/python/grad/resources/eco_meta_cyc_25-5/ecoli/25.1/data')\n",
    "\n",
    "# edb = Pgdb(ECO)\n",
    "# edb.GetInfo()"
   ]
  },
  {
   "cell_type": "code",
   "execution_count": null,
   "metadata": {},
   "outputs": [],
   "source": [
    "dbn = 'ecocyc'\n",
    "db_path = f'../test/{dbn}'\n",
    "flat_files = '/home/tony/workspace/python/grad/resources/eco_meta_cyc_25-5/ecoli/25.1/data'\n",
    "# os.system(f'rm ../test/{dbn}.pgdb')\n",
    "\n",
    "# db = ImportFromBiocyc(db_path, flat_files)\n",
    "db = Pgdb(db_path)"
   ]
  },
  {
   "cell_type": "code",
   "execution_count": null,
   "metadata": {},
   "outputs": [],
   "source": [
    "tbs = db.registry.GetTable('proteins_dat')\n",
    "assert tbs is not None"
   ]
  },
  {
   "cell_type": "code",
   "execution_count": null,
   "metadata": {},
   "outputs": [],
   "source": [
    "ents = db.ListEntries(Dat.GENES)\n",
    "ents[124]"
   ]
  },
  {
   "cell_type": "code",
   "execution_count": null,
   "metadata": {},
   "outputs": [],
   "source": [
    "db.GetEntry(Dat.PROTEINS, ents[123])"
   ]
  },
  {
   "cell_type": "code",
   "execution_count": null,
   "metadata": {},
   "outputs": [],
   "source": [
    "cur = db._database._cur\n",
    "\n",
    "js = []\n",
    "for i in range(20):\n",
    "    for p in x:\n",
    "        j = cur.execute(f\"select json from proteins_dat where id='{p}'\")\n",
    "        js.append(j)\n",
    "\n",
    "len(js)"
   ]
  },
  {
   "cell_type": "code",
   "execution_count": null,
   "metadata": {},
   "outputs": [],
   "source": [
    "jss = []\n",
    "for i in range(20):\n",
    "    js = list(cur.execute(f\"select json from proteins_dat\"))\n",
    "    jss += js\n",
    "\n",
    "len(jss)"
   ]
  },
  {
   "cell_type": "code",
   "execution_count": null,
   "metadata": {},
   "outputs": [],
   "source": [
    "def _makeMappingPlan(source: Dat, dest: Dat):\n",
    "        def usekey(key):\n",
    "            return lambda v: v.get(key, list())\n",
    "        passthrough = lambda v: v\n",
    "\n",
    "        # from: (to, table, method)\n",
    "        RELATIONS = {\n",
    "            Dat.PATHWAYS: [\n",
    "                (Dat.REACTIONS, Dat.PATHWAYS, usekey('REACTION-LIST')),\n",
    "            ],\n",
    "            Dat.REACTIONS: [\n",
    "                (Dat.PATHWAYS, Mapping.RXN_PATHWAY, passthrough),\n",
    "                (Dat.ENZRXNS, Dat.REACTIONS, usekey('ENZYMATIC-REACTION')),\n",
    "            ],\n",
    "            Dat.ENZRXNS: [\n",
    "                (Dat.REACTIONS, Dat.ENZRXNS, usekey('REACTION')),\n",
    "                (Dat.PROTEINS, Dat.ENZRXNS, usekey('ENZYME')),\n",
    "            ],\n",
    "            Dat.PROTEINS: [\n",
    "                (Dat.ENZRXNS, Mapping.PROT_ENZRXN, passthrough),\n",
    "            ]\n",
    "        }\n",
    "\n",
    "        def find(curr:Dat, path):\n",
    "            if curr == dest:\n",
    "                print('x')\n",
    "                return path\n",
    "            for to, table, fn in RELATIONS.get(curr, []):\n",
    "                return find(to, path+[(table, fn)])\n",
    "            return None\n",
    "\n",
    "        path = find(source, [])\n",
    "        assert path is not None, f\"no known way to get from {source.name} to {dest.name}\"\n",
    "        for t, fn in path:\n",
    "            print(t, fn)\n",
    "\n",
    "_makeMappingPlan(Dat.PROTEINS, Dat.PATHWAYS)"
   ]
  },
  {
   "cell_type": "code",
   "execution_count": null,
   "metadata": {},
   "outputs": [],
   "source": [
    "q = ['1-ACYLGLYCEROL-3-P-ACYLTRANSFER-MONOMER',\n",
    " '1-PFK',\n",
    " '1-PFK-MONOMER',\n",
    " '2-DEHYDROPANTOATE-REDUCT-MONOMER',\n",
    " '2-HEXADECENOYL-ACP',\n",
    " '2-ISOPROPYLMALATESYN-MONOMER',\n",
    " '2-OCTAPRENYL-METHOXY-BENZOQ-METH-MONOMER',\n",
    " '2-OCTAPRENYLPHENOL-HYDROX-MONOMER',\n",
    " '2OXOGLUTARATEDEH-CPLX',\n",
    " '3-CH3-2-OXOBUTANOATE-OH-CH3-XFER-MONOMER']\n",
    "\n",
    "\n",
    "cur.execute(f'''create temporary table temp (x text primary key)''')\n",
    "cur.execute(f'''create temporary table temp (x text primary key)''')"
   ]
  },
  {
   "cell_type": "code",
   "execution_count": null,
   "metadata": {},
   "outputs": [],
   "source": [
    "db.GetInfo()"
   ]
  },
  {
   "cell_type": "code",
   "execution_count": null,
   "metadata": {},
   "outputs": [],
   "source": [
    "from __future__ import annotations\n",
    "from enum import Enum\n",
    "\n",
    "class Dat(Enum):\n",
    "    PROTEINS = 'proteins.dat'\n",
    "    ENZRXNS = 'enzrxns.dat'\n",
    "    PATHWAYS = 'pathways.dat'\n",
    "    GENES = 'genes.dat'\n",
    "    REGULATION = 'regulation.dat'\n",
    "    REACTIONS = 'reactions.dat'\n",
    "    COMPOUNDS = 'compounds.dat'\n",
    "    PROTEIN_FEATURES = 'protein-features.dat'\n",
    "    PRO_LIGAND_CPLX = 'protligandcplxes.dat'\n",
    "    RNAS = 'rnas.dat'\n",
    "    SPECIES = 'species.dat'\n",
    "\n",
    "    def __init__(self, val: str):\n",
    "        self.table_name = val.replace('.', '_').replace('-', '_')"
   ]
  },
  {
   "cell_type": "code",
   "execution_count": null,
   "metadata": {},
   "outputs": [],
   "source": [
    "Dat.COMPOUNDS.table_name"
   ]
  },
  {
   "cell_type": "code",
   "execution_count": null,
   "metadata": {},
   "outputs": [],
   "source": [
    "verp = f'{flat_files}/version.dat'\n",
    "import json\n",
    "from typing import Any\n",
    "\n",
    "def jdumps(obj: Any):\n",
    "    return json.dumps(obj, separators=(',', ':'))\n",
    "\n",
    "jloads = json.loads\n",
    "# ORGID\tMETA\n",
    "# ORGANISM\tMetaCyc\n",
    "# VERSION\t25.5\n",
    "# RELEASE-DATE\tWed Jul 21, 2021\n",
    "\n",
    "def parse(fpath: str):\n",
    "    VER_DAT = 'version.dat'\n",
    "    version_data = {}\n",
    "    with open(fpath) as ver:\n",
    "        for line in ver:\n",
    "            if line.startswith(';;') or line.startswith('//'): continue\n",
    "            toks = line[:-1].split('\\t')\n",
    "            if len(toks) != 2:\n",
    "                print(f'unrecognized line in {VER_DAT} [{line}]')\n",
    "                continue\n",
    "            k, v = toks\n",
    "            vals = version_data.get(k, list())\n",
    "            vals.append(v)\n",
    "            version_data[k] = vals\n",
    "        version_data = [(k, v[0] if len(v)==1 else jdumps(v)) for k, v in version_data.items()]\n",
    "    \n",
    "    assert len(version_data)>0, f'{VER_DAT} is empty!'\n",
    "    return version_data\n",
    "\n",
    "vd = parse(verp)"
   ]
  },
  {
   "cell_type": "code",
   "execution_count": null,
   "metadata": {},
   "outputs": [],
   "source": [
    "vd"
   ]
  },
  {
   "cell_type": "code",
   "execution_count": null,
   "metadata": {},
   "outputs": [],
   "source": [
    "[t.name for t in db._database.registry.GetTables()]"
   ]
  },
  {
   "cell_type": "code",
   "execution_count": null,
   "metadata": {},
   "outputs": [],
   "source": [
    "for t in db._database.registry.GetTables():\n",
    "    print(t.name)"
   ]
  },
  {
   "cell_type": "code",
   "execution_count": null,
   "metadata": {},
   "outputs": [],
   "source": [
    "db.GetInfo()"
   ]
  },
  {
   "cell_type": "code",
   "execution_count": null,
   "metadata": {},
   "outputs": [],
   "source": [
    "r = db._database.registry\n",
    "def x():\n",
    "    for name, fields, t in r.Select([r.F_table_name, r.F_fields, r.F_type], ''):\n",
    "        yield name\n",
    "for xx in x():\n",
    "    print(xx)"
   ]
  }
 ],
 "metadata": {
  "interpreter": {
   "hash": "2435c7440461fadc5a1d9e864caea4455b848895712cb9bd14333ad40094f801"
  },
  "kernelspec": {
   "display_name": "Python 3.10.0 ('p310')",
   "language": "python",
   "name": "python3"
  },
  "language_info": {
   "codemirror_mode": {
    "name": "ipython",
    "version": 3
   },
   "file_extension": ".py",
   "mimetype": "text/x-python",
   "name": "python",
   "nbconvert_exporter": "python",
   "pygments_lexer": "ipython3",
   "version": "3.10.0"
  },
  "orig_nbformat": 4
 },
 "nbformat": 4,
 "nbformat_minor": 2
}
