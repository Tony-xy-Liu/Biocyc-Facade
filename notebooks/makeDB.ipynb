{
 "cells": [
  {
   "cell_type": "code",
   "execution_count": 2,
   "metadata": {},
   "outputs": [],
   "source": [
    "import sqlite3\n",
    "from utils.fs import GetFilesIn\n",
    "import json\n",
    "\n",
    "ROOT = '/home/tony/workspace/python/grad/resources/eco_meta_cyc_25-5'\n",
    "DB_PATH = f'{ROOT}/Biocyc-Parse/parsed/metacyc25-1.limes.psql'"
   ]
  },
  {
   "cell_type": "code",
   "execution_count": 22,
   "metadata": {},
   "outputs": [
    {
     "name": "stdout",
     "output_type": "stream",
     "text": [
      "proteins.dat\n",
      "enzrxns.dat\n",
      "pathways.dat\n",
      "genes.dat\n",
      "regulation.dat\n",
      "reactions.dat\n",
      "compounds.dat\n",
      "protein-features.dat\n",
      "protligandcplxes.dat\n",
      "rnas.dat\n",
      "species.dat\n",
      "dblink mapping\n",
      "mapping protein_enzrxn_map\n",
      "mapping enzrxn_reaction_map\n",
      "mapping reaction_pathway_map\n",
      "committing\n",
      "done\n"
     ]
    }
   ],
   "source": [
    "import sys\n",
    "SCRIPTS_PATH = '/home/tony/workspace/python/grad/resources/eco_meta_cyc_25-5/Biocyc-Parse/'\n",
    "if SCRIPTS_PATH not in sys.path:\n",
    "    sys.path.append(SCRIPTS_PATH)\n",
    "import scripts.parseDat as par\n",
    "import importlib\n",
    "importlib.reload(par)\n",
    "\n",
    "CON = sqlite3.connect(DB_PATH)\n",
    "CUR = CON.cursor()\n",
    "\n",
    "def registerTable(table:str, fields:list[str]):\n",
    "    if len(list(CUR.execute(f\"SELECT name FROM tables WHERE name = '{table}'\"))) == 0:\n",
    "        CUR.executemany(f\"INSERT INTO tables (name, field) VALUES (?, ?)\", [(table, f) for f in fields])\n",
    "\n",
    "def setup():\n",
    "    make_tables = [\n",
    "        '''CREATE TABLE IF NOT EXISTS tables (\n",
    "            name TEXT NOT NULL,\n",
    "            field TEXT NOT NULL,\n",
    "            PRIMARY KEY (name, field)\n",
    "        )''',\n",
    "        '''CREATE TABLE IF NOT EXISTS json_keys_of_dats (\n",
    "            key TEXT NOT NULL,\n",
    "            table_name TEXT NOT NULL, \n",
    "            PRIMARY KEY (key, table_name),\n",
    "            FOREIGN KEY (table_name) REFERENCES tables (name) \n",
    "        )''',\n",
    "    ]\n",
    "    for cmd in make_tables:\n",
    "        CUR.execute(cmd)\n",
    "\n",
    "    registerTable('json_keys_of_dats', ['key', 'table_name'])\n",
    "setup()\n",
    "\n",
    "def parseDats():\n",
    "    DATA_DIR = '/home/tony/workspace/python/grad/resources/eco_meta_cyc_25-5/meta/25.1/data'\n",
    "\n",
    "    DATS = [\n",
    "        'proteins.dat',\n",
    "        'enzrxns.dat',\n",
    "        'pathways.dat',\n",
    "        'genes.dat',\n",
    "        'regulation.dat',\n",
    "        'reactions.dat',\n",
    "        'compounds.dat',\n",
    "        'protein-features.dat',\n",
    "        'protligandcplxes.dat',\n",
    "        'rnas.dat',\n",
    "        'species.dat',\n",
    "    ]\n",
    "\n",
    "    all_dats = {}\n",
    "\n",
    "    for dat in DATS:\n",
    "        print(f\"{dat}\")\n",
    "        \n",
    "        pdat = par.parse(f'{DATA_DIR}/{dat}', 'UNIQUE-ID', {\n",
    "            'DBLINKS': lambda x: x[1:-1].replace('\"', '').split(' ')[:2],\n",
    "            'GIBBS-0': lambda x: x.strip(),\n",
    "            'MOLECULAR-WEIGHT-EXP': lambda x: x.strip(),\n",
    "        }, all_fields=True)\n",
    "\n",
    "        dat_name = dat.replace('.', '_').replace('-', '_')\n",
    "        CUR.execute(f'''CREATE TABLE IF NOT EXISTS {dat_name} (\n",
    "            id TEXT PRIMARY KEY,\n",
    "            json TEXT NOT NULL\n",
    "        )''',)\n",
    "        registerTable(dat_name, ['id', 'json'])\n",
    "\n",
    "        # just using a dict because not enough useful links between tables to justify\n",
    "        entries: list[tuple] = []\n",
    "        json_keys = set()\n",
    "        for k, val in pdat.items():\n",
    "            entries.append((k, json.dumps(val, separators=(',', ':'))))\n",
    "            json_keys = json_keys.union(set(val.keys()))\n",
    "\n",
    "        CUR.executemany(f\"INSERT INTO {dat_name} (id, json) VALUES (?, ?)\", entries)\n",
    "        CUR.executemany(f\"INSERT INTO json_keys_of_dats (key, table_name) VALUES (?, ?)\", [(dat_name, k) for k in json_keys])\n",
    "        all_dats[dat_name] = pdat\n",
    "\n",
    "    # ==========================================================\n",
    "    # make reverse mappings, like aws dynamo's secondary indexes\n",
    "\n",
    "    def dictAppend(d:dict, k, v):\n",
    "        if k in d:\n",
    "            arr = d[k]\n",
    "            arr.append(v)\n",
    "        else:\n",
    "            d[k] = [v]\n",
    "\n",
    "    def makeRev(mapping, revKey, parser):\n",
    "        rev = {}\n",
    "        for k, v in mapping.items():\n",
    "            if revKey not in v: continue\n",
    "            for val in v[revKey]:\n",
    "                parsed = parser(val)\n",
    "                if type(parsed) == list:\n",
    "                    [dictAppend(rev, p, k) for p in parsed]\n",
    "                else:\n",
    "                    dictAppend(rev, parsed, k)\n",
    "        return rev\n",
    "\n",
    "    def linearize(mapping):\n",
    "        entries = set()\n",
    "        for k, vs in mapping.items():\n",
    "            for v in vs:\n",
    "                if type(k) == tuple:\n",
    "                    db, id = k\n",
    "                    entries.add((db, id, v))\n",
    "                else:\n",
    "                    entries.add((k, v))\n",
    "        return entries\n",
    "\n",
    "    # seperate from loop below since key is db + id (where id is likely db accession)\n",
    "    print('dblink mapping')\n",
    "    db_mapping = makeRev(all_dats['proteins_dat'], 'DBLINKS', lambda x: tuple(x))\n",
    "    CUR.execute(f'''CREATE TABLE IF NOT EXISTS dblinks_proteins_map (\n",
    "        db TEXT NOT NULL,\n",
    "        id TEXT NOT NULL,\n",
    "        found_in TEXT NOT NULL,\n",
    "        PRIMARY KEY (db, id, found_in),\n",
    "        FOREIGN KEY (found_in) REFERENCES proteins_dat (id)\n",
    "    )''',)\n",
    "    registerTable('dblinks_proteins_map', ['db', 'id', 'found_in'])\n",
    "    CUR.executemany('INSERT INTO dblinks_proteins_map (db, id, found_in) VALUES (?, ?, ?)', linearize(db_mapping))\n",
    "\n",
    "    # source table, mapping name, target id, target table\n",
    "    mappings = [\n",
    "        ('enzrxns_dat',     'protein_enzrxn_map',   'ENZYME',               'proteins_dat'),\n",
    "        ('reactions_dat',   'enzrxn_reaction_map',  'ENZYMATIC-REACTION',   'enzrxns_dat'),\n",
    "        ('pathways_dat',    'reaction_pathway_map', 'REACTION-LIST',        'reactions_dat'),\n",
    "    ]\n",
    "\n",
    "    for source, name, target_id, target in mappings:\n",
    "        print(f'mapping {name}')\n",
    "        mapping = makeRev(all_dats[source], target_id, lambda x: x)\n",
    "        CUR.execute(f'''CREATE TABLE IF NOT EXISTS {name} (\n",
    "            id TEXT NOT NULL,\n",
    "            found_in TEXT NOT NULL,\n",
    "            PRIMARY KEY (id, found_in),\n",
    "            FOREIGN KEY (found_in) REFERENCES {target} (id)\n",
    "        )''',)\n",
    "        registerTable(name, ['id', 'found_in'])\n",
    "\n",
    "        CUR.executemany(f'INSERT INTO {name} (id, found_in) VALUES (?, ?)', linearize(mapping))\n",
    "parseDats()\n",
    "\n",
    "print('committing')\n",
    "CON.commit()\n",
    "print('done')\n",
    "CON.close()"
   ]
  },
  {
   "cell_type": "code",
   "execution_count": 19,
   "metadata": {},
   "outputs": [],
   "source": [
    "CON.close()"
   ]
  },
  {
   "cell_type": "code",
   "execution_count": 3,
   "metadata": {},
   "outputs": [],
   "source": [
    "CON = sqlite3.connect(DB_PATH)\n",
    "CUR = CON.cursor()"
   ]
  },
  {
   "cell_type": "code",
   "execution_count": 4,
   "metadata": {},
   "outputs": [
    {
     "data": {
      "text/plain": [
       "[('compounds_dat',),\n",
       " ('dblinks_proteins_map',),\n",
       " ('enzrxn_reaction_map',),\n",
       " ('enzrxns_dat',),\n",
       " ('genes_dat',),\n",
       " ('json_keys_of_dats',),\n",
       " ('pathways_dat',),\n",
       " ('protein_enzrxn_map',),\n",
       " ('protein_features_dat',),\n",
       " ('proteins_dat',),\n",
       " ('protligandcplxes_dat',),\n",
       " ('reaction_pathway_map',),\n",
       " ('reactions_dat',),\n",
       " ('regulation_dat',),\n",
       " ('rnas_dat',),\n",
       " ('species_dat',)]"
      ]
     },
     "execution_count": 4,
     "metadata": {},
     "output_type": "execute_result"
    }
   ],
   "source": [
    "list(CUR.execute(\"SELECT DISTINCT name from tables\"))"
   ]
  },
  {
   "cell_type": "code",
   "execution_count": 24,
   "metadata": {},
   "outputs": [
    {
     "data": {
      "text/plain": [
       "[('db',), ('found_in',), ('id',)]"
      ]
     },
     "execution_count": 24,
     "metadata": {},
     "output_type": "execute_result"
    }
   ],
   "source": [
    "list(CUR.execute(\"SELECT field from tables where name='dblinks_proteins_map'\"))"
   ]
  },
  {
   "cell_type": "code",
   "execution_count": 6,
   "metadata": {},
   "outputs": [
    {
     "data": {
      "text/plain": [
       "('+-BORNEOL-DEHYDROGENASE-RXN',)"
      ]
     },
     "execution_count": 6,
     "metadata": {},
     "output_type": "execute_result"
    }
   ],
   "source": [
    "for x in CUR.execute(\"SELECT id from reactions_dat\"):\n",
    "    break\n",
    "x"
   ]
  },
  {
   "cell_type": "code",
   "execution_count": 14,
   "metadata": {},
   "outputs": [],
   "source": [
    "x = list(CUR.execute(\"\"\"\n",
    "select r.id, rp.id, rp.found_in\n",
    "from reactions_dat as r inner join reaction_pathway_map as rp on r.id = rp.id\n",
    "where r.id ='+-BORNEOL-DEHYDROGENASE-RXN'\n",
    "\"\"\"))"
   ]
  },
  {
   "cell_type": "code",
   "execution_count": 15,
   "metadata": {},
   "outputs": [
    {
     "name": "stdout",
     "output_type": "stream",
     "text": [
      "('+-BORNEOL-DEHYDROGENASE-RXN', '+-BORNEOL-DEHYDROGENASE-RXN', 'PWY-6990')\n"
     ]
    }
   ],
   "source": [
    "for xx in x:\n",
    "    print(xx)"
   ]
  }
 ],
 "metadata": {
  "interpreter": {
   "hash": "2435c7440461fadc5a1d9e864caea4455b848895712cb9bd14333ad40094f801"
  },
  "kernelspec": {
   "display_name": "Python 3.10.0 ('p310')",
   "language": "python",
   "name": "python3"
  },
  "language_info": {
   "codemirror_mode": {
    "name": "ipython",
    "version": 3
   },
   "file_extension": ".py",
   "mimetype": "text/x-python",
   "name": "python",
   "nbconvert_exporter": "python",
   "pygments_lexer": "ipython3",
   "version": "3.10.4"
  },
  "orig_nbformat": 4
 },
 "nbformat": 4,
 "nbformat_minor": 2
}
