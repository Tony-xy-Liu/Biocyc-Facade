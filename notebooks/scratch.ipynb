{
 "cells": [
  {
   "cell_type": "code",
   "execution_count": 1,
   "metadata": {},
   "outputs": [],
   "source": [
    "import sys\n",
    "sys.path.append('/home/tony/workspace/python/grad/resources/Biocyc-Facade/src')\n",
    "sys.path = list(set(sys.path))\n",
    "import os\n",
    "import sqlite3"
   ]
  },
  {
   "cell_type": "code",
   "execution_count": 12,
   "metadata": {},
   "outputs": [],
   "source": [
    "con = sqlite3.connect('../test/scratch.pgdb')\n",
    "cur = con.cursor()"
   ]
  },
  {
   "cell_type": "code",
   "execution_count": 14,
   "metadata": {},
   "outputs": [
    {
     "ename": "OperationalError",
     "evalue": "near \"table_name\": syntax error",
     "output_type": "error",
     "traceback": [
      "\u001b[0;31m---------------------------------------------------------------------------\u001b[0m",
      "\u001b[0;31mOperationalError\u001b[0m                          Traceback (most recent call last)",
      "\u001b[1;32m/home/tony/workspace/python/grad/resources/Biocyc-Facade/notebooks/scratch.ipynb Cell 3'\u001b[0m in \u001b[0;36m<cell line: 1>\u001b[0;34m()\u001b[0m\n\u001b[0;32m----> <a href='vscode-notebook-cell:/home/tony/workspace/python/grad/resources/Biocyc-Facade/notebooks/scratch.ipynb#ch0000006?line=0'>1</a>\u001b[0m cur\u001b[39m.\u001b[39;49mexecute(\u001b[39mf\u001b[39;49m\u001b[39m'''\u001b[39;49m\u001b[39m \u001b[39;49m\u001b[39m\\\u001b[39;49;00m\n\u001b[1;32m      <a href='vscode-notebook-cell:/home/tony/workspace/python/grad/resources/Biocyc-Facade/notebooks/scratch.ipynb#ch0000006?line=1'>2</a>\u001b[0m \u001b[39mCREATE TABLE json_keys_of_dats (\u001b[39;49m\n\u001b[1;32m      <a href='vscode-notebook-cell:/home/tony/workspace/python/grad/resources/Biocyc-Facade/notebooks/scratch.ipynb#ch0000006?line=2'>3</a>\u001b[0m \u001b[39m    key TEXT NOT NULL,\u001b[39;49m\n\u001b[1;32m      <a href='vscode-notebook-cell:/home/tony/workspace/python/grad/resources/Biocyc-Facade/notebooks/scratch.ipynb#ch0000006?line=3'>4</a>\u001b[0m \u001b[39m    table_name TEXT NOT NULL,\u001b[39;49m\n\u001b[1;32m      <a href='vscode-notebook-cell:/home/tony/workspace/python/grad/resources/Biocyc-Facade/notebooks/scratch.ipynb#ch0000006?line=4'>5</a>\u001b[0m \u001b[39m    PRIMARY KEY (key),\u001b[39;49m\n\u001b[1;32m      <a href='vscode-notebook-cell:/home/tony/workspace/python/grad/resources/Biocyc-Facade/notebooks/scratch.ipynb#ch0000006?line=5'>6</a>\u001b[0m \u001b[39m    FOREIGN KEY table_name REFERENCES tables (name)\u001b[39;49m\n\u001b[1;32m      <a href='vscode-notebook-cell:/home/tony/workspace/python/grad/resources/Biocyc-Facade/notebooks/scratch.ipynb#ch0000006?line=6'>7</a>\u001b[0m \u001b[39m)\u001b[39;49m\u001b[39m'''\u001b[39;49m)\n",
      "\u001b[0;31mOperationalError\u001b[0m: near \"table_name\": syntax error"
     ]
    }
   ],
   "source": [
    "cur.execute(f''' \\\n",
    "CREATE TABLE json_keys_of_dats (\n",
    "    key TEXT NOT NULL,\n",
    "    table_name TEXT NOT NULL,\n",
    "    PRIMARY KEY (key),\n",
    "    FOREIGN KEY table_name REFERENCES tables (name)\n",
    ")''')"
   ]
  },
  {
   "cell_type": "code",
   "execution_count": 36,
   "metadata": {},
   "outputs": [
    {
     "ename": "OperationalError",
     "evalue": "no such column: names",
     "output_type": "error",
     "traceback": [
      "\u001b[0;31m---------------------------------------------------------------------------\u001b[0m",
      "\u001b[0;31mOperationalError\u001b[0m                          Traceback (most recent call last)",
      "\u001b[1;32m/home/tony/workspace/python/grad/resources/Biocyc-Facade/notebooks/scratch.ipynb Cell 6'\u001b[0m in \u001b[0;36m<cell line: 9>\u001b[0;34m()\u001b[0m\n\u001b[1;32m      <a href='vscode-notebook-cell:/home/tony/workspace/python/grad/resources/Biocyc-Facade/notebooks/scratch.ipynb#ch0000005?line=0'>1</a>\u001b[0m \u001b[39m# sqlite gives this automatically\u001b[39;00m\n\u001b[1;32m      <a href='vscode-notebook-cell:/home/tony/workspace/python/grad/resources/Biocyc-Facade/notebooks/scratch.ipynb#ch0000005?line=1'>2</a>\u001b[0m \u001b[39m# CREATE TABLE sqlite_schema (\u001b[39;00m\n\u001b[1;32m      <a href='vscode-notebook-cell:/home/tony/workspace/python/grad/resources/Biocyc-Facade/notebooks/scratch.ipynb#ch0000005?line=2'>3</a>\u001b[0m \u001b[39m#   type TEXT,\u001b[39;00m\n\u001b[0;32m   (...)\u001b[0m\n\u001b[1;32m      <a href='vscode-notebook-cell:/home/tony/workspace/python/grad/resources/Biocyc-Facade/notebooks/scratch.ipynb#ch0000005?line=6'>7</a>\u001b[0m \u001b[39m#   sql TEXT\u001b[39;00m\n\u001b[1;32m      <a href='vscode-notebook-cell:/home/tony/workspace/python/grad/resources/Biocyc-Facade/notebooks/scratch.ipynb#ch0000005?line=7'>8</a>\u001b[0m \u001b[39m# );\u001b[39;00m\n\u001b[0;32m----> <a href='vscode-notebook-cell:/home/tony/workspace/python/grad/resources/Biocyc-Facade/notebooks/scratch.ipynb#ch0000005?line=8'>9</a>\u001b[0m \u001b[39mfor\u001b[39;00m x \u001b[39min\u001b[39;00m cur\u001b[39m.\u001b[39;49mexecute(\u001b[39m'\u001b[39;49m\u001b[39mselect names, type from sqlite_schema where name=\u001b[39;49m\u001b[39m\"\u001b[39;49m\u001b[39mtest\u001b[39;49m\u001b[39m\"\u001b[39;49m\u001b[39m'\u001b[39;49m):\n\u001b[1;32m     <a href='vscode-notebook-cell:/home/tony/workspace/python/grad/resources/Biocyc-Facade/notebooks/scratch.ipynb#ch0000005?line=9'>10</a>\u001b[0m     \u001b[39mprint\u001b[39m(x)\n",
      "\u001b[0;31mOperationalError\u001b[0m: no such column: names"
     ]
    }
   ],
   "source": [
    "# sqlite gives this automatically\n",
    "# CREATE TABLE sqlite_schema (\n",
    "#   type TEXT,\n",
    "#   name TEXT,\n",
    "#   tbl_name TEXT,\n",
    "#   rootpage INTEGER,\n",
    "#   sql TEXT\n",
    "# );\n",
    "for x in cur.execute('select names, type, sql from sqlite_schema where name=\"test\"'):\n",
    "    print(x)"
   ]
  },
  {
   "cell_type": "code",
   "execution_count": 37,
   "metadata": {},
   "outputs": [],
   "source": [
    "con.close()"
   ]
  },
  {
   "cell_type": "code",
   "execution_count": 1,
   "metadata": {},
   "outputs": [],
   "source": [
    "import sys\n",
    "sys.path.append('/home/tony/workspace/python/grad/resources/Biocyc-Facade/src')\n",
    "sys.path = list(set(sys.path))\n",
    "\n",
    "import biocyc_facade.models.sql as sql\n",
    "from biocyc_facade.pgdb import Pgdb, ImportFromBiocyc, Dat, Mapping"
   ]
  },
  {
   "cell_type": "code",
   "execution_count": 2,
   "metadata": {},
   "outputs": [],
   "source": [
    "dbn = 'ecocyc'\n",
    "db_path = f'../test/{dbn}'\n",
    "flat_files = '/home/tony/workspace/python/grad/resources/eco_meta_cyc_25-5/ecoli/25.1/data'\n",
    "# os.system(f'rm ../test/{dbn}.pgdb')\n",
    "\n",
    "# db = ImportFromBiocyc(db_path, flat_files)\n",
    "db = Pgdb(db_path)"
   ]
  },
  {
   "cell_type": "code",
   "execution_count": 3,
   "metadata": {},
   "outputs": [],
   "source": [
    "tbs = db.registry.GetTable('proteins_dat')\n",
    "assert tbs is not None"
   ]
  },
  {
   "cell_type": "code",
   "execution_count": 6,
   "metadata": {},
   "outputs": [
    {
     "data": {
      "text/plain": [
       "'EG10129'"
      ]
     },
     "execution_count": 6,
     "metadata": {},
     "output_type": "execute_result"
    }
   ],
   "source": [
    "ents = db.ListEntries(Dat.GENES)\n",
    "ents[124]"
   ]
  },
  {
   "cell_type": "code",
   "execution_count": 4,
   "metadata": {},
   "outputs": [
    {
     "data": {
      "text/plain": [
       "{'TYPES': ['Polypeptides'],\n",
       " 'COMMON-NAME': ['acyl-CoA dehydrogenase'],\n",
       " 'CATALYZES': ['ACYLCOADEHYDROG-ENZRXN',\n",
       "  'ENZRXN0-8242',\n",
       "  'ENZRXN0-8243',\n",
       "  'ENZRXN0-8244',\n",
       "  'ENZRXN0-8245',\n",
       "  'ENZRXN0-8246',\n",
       "  'ENZRXN0-8247',\n",
       "  'ENZRXN0-8248'],\n",
       " 'CITATIONS': ['1097444',\n",
       "  '350850',\n",
       "  '374354',\n",
       "  '6355101',\n",
       "  '12694916',\n",
       "  '16385050',\n",
       "  '23656231',\n",
       "  '29369593'],\n",
       " 'COMMENT': ['Acyl-CoA dehydrogenase (FadE) catalyzes the first step in the degradation of fatty acids via the &beta;-oxidation cycle |CITS: [334745][11771124][12057976]|. \\n/\\n/<i>fadE</i> mutants are unable to utilize oleate and other fatty acids as the sole source of carbon |CITS: [4928881][12057976]|.  The <i>fadE62</i> allele is a single base deletion resulting in a frame shift mutation, and <i>yafH</i> can complement the phenotype of the <i>fadE62</i> mutant strain |CITS: [12057976]|.\\n/\\n/Expression of the enzymes involved in &beta;-oxidation is normally induced by fatty acids of chain length 14 and longer |CITS: [4886296][16385050]|.  Regulation is at the transcriptional level and involves repression by FadR |CITS: [6271734]|.\\n/\\n/OldE: \"<b>ol</b>eate <b>d</b>egradation <b>E</b>\" |CITS: [4928881]|'],\n",
       " 'COPY-NUMBER': ['113', '24'],\n",
       " 'CREDITS': ['SRI', 'keseler'],\n",
       " 'DBLINKS': [['INTERPRO', 'IPR036250'],\n",
       "  ['INTERPRO', 'IPR037069'],\n",
       "  ['PFAM', 'PF02771'],\n",
       "  ['PFAM', 'PF02770'],\n",
       "  ['PFAM', 'PF00441'],\n",
       "  ['PFAM', 'PF09317'],\n",
       "  ['INTERPRO', 'IPR015396'],\n",
       "  ['INTERPRO', 'IPR009100'],\n",
       "  ['INTERPRO', 'IPR013786'],\n",
       "  ['INTERPRO', 'IPR009075'],\n",
       "  ['INTERPRO', 'IPR006091'],\n",
       "  ['PROSITE', 'PS00072'],\n",
       "  ['PRIDE', 'Q47146'],\n",
       "  ['PRODB', 'PRO_000022569'],\n",
       "  ['ECOLIWIKI', 'b0221'],\n",
       "  ['MODBASE', 'Q47146'],\n",
       "  ['UNIPROT', 'Q47146'],\n",
       "  ['REFSEQ', 'NP_414756']],\n",
       " 'FEATURES': ['FTR0-1562086',\n",
       "  'FTR0-1562085',\n",
       "  'FTR0-1562084',\n",
       "  'FTR0-1562083',\n",
       "  'FTR0-1501998'],\n",
       " 'GENE': ['G6105'],\n",
       " 'GO-TERMS': ['GO:0004466',\n",
       "  'GO:0050660',\n",
       "  'GO:0016627',\n",
       "  'GO:0006635',\n",
       "  'GO:0016491',\n",
       "  'GO:0006631',\n",
       "  'GO:0006629',\n",
       "  'GO:0005737',\n",
       "  'GO:0009062',\n",
       "  'GO:0005886',\n",
       "  'GO:0033539',\n",
       "  'GO:0003995'],\n",
       " '^CITATIONS': ['GO_REF-0000003:EV-COMP-AINF:3821587200:UNIPROT::EC\\\\:1.3.8.8:enables',\n",
       "  'GO_REF-0000116:EV-COMP-AINF:3821587200:RHEA::RHEA\\\\:17721:enables',\n",
       "  'GO_REF-0000002:EV-COMP-AINF:3821587200:INTERPRO::InterPro\\\\:IPR013786|InterPro\\\\:IPR037069:enables',\n",
       "  'GO_REF-0000002:EV-COMP-AINF:3821587200:INTERPRO::InterPro\\\\:IPR006091|InterPro\\\\:IPR009075|InterPro\\\\:IPR009100|InterPro\\\\:IPR013786|InterPro\\\\:IPR036250|InterPro\\\\:IPR037069:enables',\n",
       "  'GO_REF-0000041:EV-COMP-AINF:3821587200:UNIPROT::UniPathway\\\\:UPA00659:involved_in',\n",
       "  'GO_REF-0000043:EV-COMP-AINF:3821587200:UNIPROT::SP_KW\\\\:KW-0560:enables',\n",
       "  'GO_REF-0000043:EV-COMP-AINF:3821587200:UNIPROT::SP_KW\\\\:KW-0276:involved_in',\n",
       "  'GO_REF-0000043:EV-COMP-AINF:3821587200:UNIPROT::SP_KW\\\\:KW-0443:involved_in',\n",
       "  '334745:EV-EXP-IDA:3785524536:keseler',\n",
       "  '4928881:EV-EXP-IMP:3785512360:keseler',\n",
       "  '21873635:EV-COMP-IBA:3697257600:GO_CENTRAL::PANTHER\\\\:PTN002466388|UniProtKB\\\\:Q47146:part_of',\n",
       "  '19054114:EV-COMP-AINF:3610719457:paley',\n",
       "  'GO_REF-0000002:EV-COMP-AINF:3821587200:INTERPRO::InterPro\\\\:IPR015396:involved_in',\n",
       "  '12057976:EV-EXP-IMP:3576432296:brito',\n",
       "  '21873635:EV-COMP-IBA:3701660400:GO_CENTRAL::PANTHER\\\\:PTN001330974|UniProtKB\\\\:Q47146:enables',\n",
       "  'GO_REF-0000002:EV-COMP-AINF:3821587200:INTERPRO::InterPro\\\\:IPR015396:enables',\n",
       "  '334745:EV-EXP-IDA-UNPURIFIED-PROTEIN:3785512882:keseler',\n",
       "  '12057976:EV-EXP-IMP:3576432301:brito'],\n",
       " 'INSTANCE-NAME-TEMPLATE': ['MONOMER-*'],\n",
       " 'LOCATIONS': ['CCI-CYTOSOL-GN', 'CCI-PM-BAC-NEG-GN'],\n",
       " 'MOLECULAR-WEIGHT-KD': ['89.224    '],\n",
       " 'MOLECULAR-WEIGHT-SEQ': ['89.224    '],\n",
       " 'SYNONYMS': ['FadE', 'YafH']}"
      ]
     },
     "execution_count": 4,
     "metadata": {},
     "output_type": "execute_result"
    }
   ],
   "source": [
    "db.GetEntry(Dat.PROTEINS, ents[123])"
   ]
  },
  {
   "cell_type": "code",
   "execution_count": 14,
   "metadata": {},
   "outputs": [
    {
     "data": {
      "text/plain": [
       "116880"
      ]
     },
     "execution_count": 14,
     "metadata": {},
     "output_type": "execute_result"
    }
   ],
   "source": [
    "cur = db._database._cur\n",
    "\n",
    "js = []\n",
    "for i in range(20):\n",
    "    for p in x:\n",
    "        j = cur.execute(f\"select json from proteins_dat where id='{p}'\")\n",
    "        js.append(j)\n",
    "\n",
    "len(js)"
   ]
  },
  {
   "cell_type": "code",
   "execution_count": 15,
   "metadata": {},
   "outputs": [
    {
     "data": {
      "text/plain": [
       "116880"
      ]
     },
     "execution_count": 15,
     "metadata": {},
     "output_type": "execute_result"
    }
   ],
   "source": [
    "jss = []\n",
    "for i in range(20):\n",
    "    js = list(cur.execute(f\"select json from proteins_dat\"))\n",
    "    jss += js\n",
    "\n",
    "len(jss)"
   ]
  },
  {
   "cell_type": "code",
   "execution_count": 8,
   "metadata": {},
   "outputs": [
    {
     "name": "stdout",
     "output_type": "stream",
     "text": [
      "x\n",
      "Mapping.PROT_ENZRXN <function _makeMappingPlan.<locals>.<lambda> at 0x7f53c2953ac0>\n",
      "Dat.ENZRXNS <function _makeMappingPlan.<locals>.usekey.<locals>.<lambda> at 0x7f53c2951240>\n",
      "Mapping.RXN_PATHWAY <function _makeMappingPlan.<locals>.<lambda> at 0x7f53c2953ac0>\n"
     ]
    }
   ],
   "source": [
    "def _makeMappingPlan(source: Dat, dest: Dat):\n",
    "        def usekey(key):\n",
    "            return lambda v: v.get(key, list())\n",
    "        passthrough = lambda v: v\n",
    "\n",
    "        # from: (to, table, method)\n",
    "        RELATIONS = {\n",
    "            Dat.PATHWAYS: [\n",
    "                (Dat.REACTIONS, Dat.PATHWAYS, usekey('REACTION-LIST')),\n",
    "            ],\n",
    "            Dat.REACTIONS: [\n",
    "                (Dat.PATHWAYS, Mapping.RXN_PATHWAY, passthrough),\n",
    "                (Dat.ENZRXNS, Dat.REACTIONS, usekey('ENZYMATIC-REACTION')),\n",
    "            ],\n",
    "            Dat.ENZRXNS: [\n",
    "                (Dat.REACTIONS, Dat.ENZRXNS, usekey('REACTION')),\n",
    "                (Dat.PROTEINS, Dat.ENZRXNS, usekey('ENZYME')),\n",
    "            ],\n",
    "            Dat.PROTEINS: [\n",
    "                (Dat.ENZRXNS, Mapping.PROT_ENZRXN, passthrough),\n",
    "            ]\n",
    "        }\n",
    "\n",
    "        def find(curr:Dat, path):\n",
    "            if curr == dest:\n",
    "                print('x')\n",
    "                return path\n",
    "            for to, table, fn in RELATIONS.get(curr, []):\n",
    "                return find(to, path+[(table, fn)])\n",
    "            return None\n",
    "\n",
    "        path = find(source, [])\n",
    "        assert path is not None, f\"no known way to get from {source.name} to {dest.name}\"\n",
    "        for t, fn in path:\n",
    "            print(t, fn)\n",
    "\n",
    "_makeMappingPlan(Dat.PROTEINS, Dat.PATHWAYS)"
   ]
  },
  {
   "cell_type": "code",
   "execution_count": null,
   "metadata": {},
   "outputs": [],
   "source": [
    "q = ['1-ACYLGLYCEROL-3-P-ACYLTRANSFER-MONOMER',\n",
    " '1-PFK',\n",
    " '1-PFK-MONOMER',\n",
    " '2-DEHYDROPANTOATE-REDUCT-MONOMER',\n",
    " '2-HEXADECENOYL-ACP',\n",
    " '2-ISOPROPYLMALATESYN-MONOMER',\n",
    " '2-OCTAPRENYL-METHOXY-BENZOQ-METH-MONOMER',\n",
    " '2-OCTAPRENYLPHENOL-HYDROX-MONOMER',\n",
    " '2OXOGLUTARATEDEH-CPLX',\n",
    " '3-CH3-2-OXOBUTANOATE-OH-CH3-XFER-MONOMER']\n",
    "\n",
    "\n",
    "cur.execute(f'''create temporary table temp (x text primary key)''')\n",
    "cur.execute(f'''create temporary table temp (x text primary key)''')"
   ]
  },
  {
   "cell_type": "code",
   "execution_count": 17,
   "metadata": {},
   "outputs": [
    {
     "data": {
      "text/plain": [
       "{'SCHEMA_VER': '1',\n",
       " 'ORGID': 'ECOLI',\n",
       " 'ORGANISM': 'E. coli K-12 substr. MG1655',\n",
       " 'VERSION': '25.1',\n",
       " 'RELEASE-DATE': 'Mon Jul 26, 2021'}"
      ]
     },
     "execution_count": 17,
     "metadata": {},
     "output_type": "execute_result"
    }
   ],
   "source": [
    "db.GetInfo()"
   ]
  },
  {
   "cell_type": "code",
   "execution_count": 15,
   "metadata": {},
   "outputs": [],
   "source": [
    "from __future__ import annotations\n",
    "from enum import Enum\n",
    "\n",
    "class Dat(Enum):\n",
    "    PROTEINS = 'proteins.dat'\n",
    "    ENZRXNS = 'enzrxns.dat'\n",
    "    PATHWAYS = 'pathways.dat'\n",
    "    GENES = 'genes.dat'\n",
    "    REGULATION = 'regulation.dat'\n",
    "    REACTIONS = 'reactions.dat'\n",
    "    COMPOUNDS = 'compounds.dat'\n",
    "    PROTEIN_FEATURES = 'protein-features.dat'\n",
    "    PRO_LIGAND_CPLX = 'protligandcplxes.dat'\n",
    "    RNAS = 'rnas.dat'\n",
    "    SPECIES = 'species.dat'\n",
    "\n",
    "    def __init__(self, val: str):\n",
    "        self.table_name = val.replace('.', '_').replace('-', '_')"
   ]
  },
  {
   "cell_type": "code",
   "execution_count": 16,
   "metadata": {},
   "outputs": [
    {
     "data": {
      "text/plain": [
       "'compounds_dat'"
      ]
     },
     "execution_count": 16,
     "metadata": {},
     "output_type": "execute_result"
    }
   ],
   "source": [
    "Dat.COMPOUNDS.table_name"
   ]
  },
  {
   "cell_type": "code",
   "execution_count": 18,
   "metadata": {},
   "outputs": [],
   "source": [
    "verp = f'{flat_files}/version.dat'\n",
    "import json\n",
    "from typing import Any\n",
    "\n",
    "def jdumps(obj: Any):\n",
    "    return json.dumps(obj, separators=(',', ':'))\n",
    "\n",
    "jloads = json.loads\n",
    "# ORGID\tMETA\n",
    "# ORGANISM\tMetaCyc\n",
    "# VERSION\t25.5\n",
    "# RELEASE-DATE\tWed Jul 21, 2021\n",
    "\n",
    "def parse(fpath: str):\n",
    "    VER_DAT = 'version.dat'\n",
    "    version_data = {}\n",
    "    with open(fpath) as ver:\n",
    "        for line in ver:\n",
    "            if line.startswith(';;') or line.startswith('//'): continue\n",
    "            toks = line[:-1].split('\\t')\n",
    "            if len(toks) != 2:\n",
    "                print(f'unrecognized line in {VER_DAT} [{line}]')\n",
    "                continue\n",
    "            k, v = toks\n",
    "            vals = version_data.get(k, list())\n",
    "            vals.append(v)\n",
    "            version_data[k] = vals\n",
    "        version_data = [(k, v[0] if len(v)==1 else jdumps(v)) for k, v in version_data.items()]\n",
    "    \n",
    "    assert len(version_data)>0, f'{VER_DAT} is empty!'\n",
    "    return version_data\n",
    "\n",
    "vd = parse(verp)"
   ]
  },
  {
   "cell_type": "code",
   "execution_count": 19,
   "metadata": {},
   "outputs": [
    {
     "data": {
      "text/plain": [
       "[('ORGID', 'META'),\n",
       " ('ORGANISM', 'MetaCyc'),\n",
       " ('VERSION', '25.5'),\n",
       " ('RELEASE-DATE', 'Wed Jul 21, 2021')]"
      ]
     },
     "execution_count": 19,
     "metadata": {},
     "output_type": "execute_result"
    }
   ],
   "source": [
    "vd"
   ]
  },
  {
   "cell_type": "code",
   "execution_count": 3,
   "metadata": {},
   "outputs": [
    {
     "name": "stdout",
     "output_type": "stream",
     "text": [
      "SELECT name,fields,type FROM tables  \n"
     ]
    },
    {
     "data": {
      "text/plain": [
       "['info', 'json_keys_of_dats']"
      ]
     },
     "execution_count": 3,
     "metadata": {},
     "output_type": "execute_result"
    }
   ],
   "source": [
    "[t.name for t in db._database.registry.GetTables()]"
   ]
  },
  {
   "cell_type": "code",
   "execution_count": 10,
   "metadata": {},
   "outputs": [
    {
     "name": "stdout",
     "output_type": "stream",
     "text": [
      "info\n"
     ]
    }
   ],
   "source": [
    "for t in db._database.registry.GetTables():\n",
    "    print(t.name)"
   ]
  },
  {
   "cell_type": "code",
   "execution_count": 4,
   "metadata": {},
   "outputs": [
    {
     "data": {
      "text/plain": [
       "{'SCHEMA_VER': '1'}"
      ]
     },
     "execution_count": 4,
     "metadata": {},
     "output_type": "execute_result"
    }
   ],
   "source": [
    "db.GetInfo()"
   ]
  },
  {
   "cell_type": "code",
   "execution_count": 6,
   "metadata": {},
   "outputs": [
    {
     "name": "stdout",
     "output_type": "stream",
     "text": [
      "SELECT name,fields,type FROM tables  \n",
      "info\n",
      "json_keys_of_dats\n"
     ]
    }
   ],
   "source": [
    "r = db._database.registry\n",
    "def x():\n",
    "    for name, fields, t in r.Select([r.F_table_name, r.F_fields, r.F_type], ''):\n",
    "        yield name\n",
    "for xx in x():\n",
    "    print(xx)"
   ]
  }
 ],
 "metadata": {
  "interpreter": {
   "hash": "2435c7440461fadc5a1d9e864caea4455b848895712cb9bd14333ad40094f801"
  },
  "kernelspec": {
   "display_name": "Python 3.10.0 ('p310')",
   "language": "python",
   "name": "python3"
  },
  "language_info": {
   "codemirror_mode": {
    "name": "ipython",
    "version": 3
   },
   "file_extension": ".py",
   "mimetype": "text/x-python",
   "name": "python",
   "nbconvert_exporter": "python",
   "pygments_lexer": "ipython3",
   "version": "3.10.0"
  },
  "orig_nbformat": 4
 },
 "nbformat": 4,
 "nbformat_minor": 2
}
