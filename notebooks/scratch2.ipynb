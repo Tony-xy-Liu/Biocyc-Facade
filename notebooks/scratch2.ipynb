{
 "cells": [
  {
   "cell_type": "code",
   "execution_count": null,
   "metadata": {},
   "outputs": [],
   "source": [
    "import sys\n",
    "sys.path.append('/home/tony/workspace/python/grad/PathPred/ptools')\n",
    "sys.path = list(set(sys.path))"
   ]
  },
  {
   "cell_type": "code",
   "execution_count": null,
   "metadata": {},
   "outputs": [],
   "source": [
    "import os\n",
    "from biocyc_facade.pgdb import ImportFromBiocyc, Pgdb, Dat\n",
    "from biocyc_facade.models.sql import TraceStep\n",
    "\n",
    "DB_DIR = '/home/tony/workspace/python/grad/PathPred/ptools/data/pgdbs'\n",
    "ECO = f'{DB_DIR}/eco'\n",
    "\n",
    "# os.system(f'rm {ECO}.pgdb')\n",
    "# edb = ImportFromBiocyc(ECO, '/home/tony/workspace/python/grad/resources/eco_meta_cyc_25-5/ecoli/25.1/data')\n",
    "\n",
    "edb = Pgdb(ECO)\n",
    "print(edb.GetInfo())\n",
    "\n",
    "i = 0\n",
    "# for x in edb._cur.execute(\"SELECT a.s_key, a.p_key FROM (si AS a) WHERE a.index_name='DBLINKS'\"):\n",
    "# for x in edb._cur.execute(\"SELECT distinct table_name from si\"):\n",
    "#     print(x)\n",
    "#     if i > 5:\n",
    "#         break\n",
    "#     i+=1\n",
    "\n",
    "# t = edb.Trace('P-DBLINKS', 'W-COMMON-NAME')\n",
    "t = edb.Trace('P-DBLINKS', Dat.PROTEINS)\n",
    "for tt in t:\n",
    "    print(tt)\n",
    "    if i > 5:\n",
    "        break\n",
    "    i += 1"
   ]
  },
  {
   "cell_type": "code",
   "execution_count": null,
   "metadata": {},
   "outputs": [],
   "source": [
    "_, links, rev_links = t"
   ]
  },
  {
   "cell_type": "code",
   "execution_count": null,
   "metadata": {},
   "outputs": [],
   "source": [
    "\n",
    "# Trace('P-DBLINKS', Dat.PATHWAYS)\n",
    "Trace('P-DBLINKS', )"
   ]
  },
  {
   "cell_type": "code",
   "execution_count": null,
   "metadata": {},
   "outputs": [],
   "source": [
    "x = edb.ListEntries(Dat.GENES)\n",
    "x[:5]\n"
   ]
  },
  {
   "cell_type": "code",
   "execution_count": null,
   "metadata": {},
   "outputs": [],
   "source": [
    "x = edb.GetEntry(Dat.GENES, 'EG10002')\n",
    "x"
   ]
  },
  {
   "cell_type": "code",
   "execution_count": null,
   "metadata": {},
   "outputs": [],
   "source": [
    "FWD, REV = True, False\n",
    "method = [\n",
    "    (REV, 'DBLINKS', 'proteins_dat'),\n",
    "    (REV, 'ENZYME', 'enzrxns_dat'),\n",
    "    (FWD, 'REACTION', 'enzrxns_dat'),\n",
    "    # (REV, 'REACTION-LIST', 'pathways_dat'),\n",
    "    (FWD, 'EC-NUMBER', 'reactions_dat'),\n",
    "]\n",
    "\n",
    "trace = edb._database.Trace([\n",
    "    TraceStep(REV, 'DBLINKS', 'proteins_dat'),\n",
    "    TraceStep(REV, 'ENZYME', 'enzrxns_dat'),\n",
    "    TraceStep(FWD, 'REACTION', 'enzrxns_dat'),\n",
    "    TraceStep(REV, 'REACTION-LIST', 'pathways_dat'),\n",
    "])\n",
    "\n",
    "print(len(trace))\n",
    "for s, e in trace[:15]:\n",
    "    print(s, \" --- \", e)"
   ]
  },
  {
   "cell_type": "code",
   "execution_count": null,
   "metadata": {},
   "outputs": [],
   "source": [
    "cur = edb._database._cur\n",
    "i = 0\n",
    "# p -> er\n",
    "# for x in cur.execute(f\"\"\"select a, b from \\\n",
    "#     (select x.s_key as a, x.p_key as b from secondary_index as x where x.table_name='enzrxns_dat')\"\"\"):\n",
    "# p -> r \n",
    "# for x in cur.execute(f\"\"\" \\\n",
    "# select x.s_key, y.s_key from \\\n",
    "#     (si as x inner join si as y on x.p_key=y.p_key) \\\n",
    "# where x.index_name='ENZYME'\"\"\"):\n",
    "\n",
    "# p -> w\n",
    "# and y.index_name='REACTION' \n",
    "# and z.index_name='REACTION-LIST'\n",
    "for x in cur.execute(f\"\"\"select x.s_key, x.table_name, z.p_key from \\\n",
    "    (si as x inner join ( \\\n",
    "        si as y inner join si as z on y.s_key=z.s_key \\\n",
    "    ) on x.p_key=y.p_key) where x.index_name='ENZYME' and y.index_name='REACTION'  and z.index_name='REACTION-LIST'\"\"\"):\n",
    "    print(x)\n",
    "    if i>10: break\n",
    "    i+=1"
   ]
  },
  {
   "cell_type": "code",
   "execution_count": null,
   "metadata": {},
   "outputs": [],
   "source": [
    "FWD, REV = True, False\n",
    "method = [\n",
    "    (REV, 'ENZYME', 'enzrxns_dat'),\n",
    "    (FWD, 'REACTION', 'enzrxns_dat'),\n",
    "    # (REV, 'REACTION-LIST', 'pathways_dat'),\n",
    "    (FWD, 'EC-NUMBER', 'reactions_dat'),\n",
    "]\n",
    "\n",
    "def conv(i, base=26):\n",
    "    off = 97\n",
    "    c = lambda x: chr(x+off-1) if x != 0 else 'z'\n",
    "    if i > base-1:\n",
    "        next = (i//base)*base\n",
    "        rem = i - next\n",
    "        print(next, rem)\n",
    "        return f'{conv(next//base)}{c(rem)}'\n",
    "    else:\n",
    "        return f'{c(i)}'\n",
    "\n",
    "def makeSql(methods):\n",
    "    pk = 'p_key'\n",
    "    sk = 's_key'\n",
    "    def recurse(m, i):\n",
    "        fwd, key, table = m[0]\n",
    "        x = conv(i)\n",
    "\n",
    "        if len(m) == 1:\n",
    "            return f\"si AS {x}\", f\"{x}.index_name='{key}' and {x}.table_name='{table}'\"\n",
    "\n",
    "        f2, k2, t2 = m[1]\n",
    "        y = conv(i+1)\n",
    "        link = f\"{x}.{sk if fwd else pk}={y}.{pk if f2 else sk}\"\n",
    "        if len(m) == 2:\n",
    "            joins = f\"si AS {x} INNER JOIN si AS {y} ON {link}\"\n",
    "            where = f\"{x}.index_name='{key}' AND {x}.table_name='{table}' AND {y}.index_name='{k2}' AND {y}.table_name='{t2}'\"\n",
    "        else:\n",
    "            pjoins, pwhere = recurse(m[1:], i+1)\n",
    "            joins = f\"si AS {x} INNER JOIN ({pjoins}) ON {link}\"\n",
    "            where = f\"{x}.index_name='{key}' AND {x}.table_name='{table}' AND {pwhere}\"\n",
    "        return joins, where\n",
    "\n",
    "    j, w = recurse(methods, 1)\n",
    "    ka = pk if methods[0][0] else sk\n",
    "    kb = pk if not methods[-1][0] else sk\n",
    "    return f\"SELECT {conv(1)}.{ka}, {conv(len(methods))}.{kb} FROM ({j}) WHERE {w}\"\n",
    "\n",
    "# sql = ''\n",
    "# for dir, key, table in method:\n",
    "#     sql = f\"\"\n",
    "\n",
    "x = makeSql(method)\n",
    "print(x)"
   ]
  },
  {
   "cell_type": "code",
   "execution_count": null,
   "metadata": {},
   "outputs": [],
   "source": [
    "# p -> r \n",
    "# for x in cur.execute(f\"\"\" \\\n",
    "# select x.s_key, y.s_key from \\\n",
    "#     (si as x inner join si as y on x.p_key=y.p_key) \\\n",
    "# where x.index_name='ENZYME'\"\"\"):"
   ]
  },
  {
   "cell_type": "code",
   "execution_count": null,
   "metadata": {},
   "outputs": [],
   "source": [
    "FWD, REV = True, False\n",
    "method = [\n",
    "    (REV, 'DBLINKS', 'proteins_dat'),\n",
    "    (REV, 'ENZYME', 'enzrxns_dat'),\n",
    "    (FWD, 'REACTION', 'enzrxns_dat'),\n",
    "    # (REV, 'REACTION-LIST', 'pathways_dat'),\n",
    "    (FWD, 'EC-NUMBER', 'reactions_dat'),\n",
    "]\n",
    "\n",
    "sql = makeSql(method[0:3])\n",
    "print(sql)\n",
    "sql += \"and a.s_key LIKE 'UNIPROT%'\"\n",
    "i = 0\n",
    "for x in cur.execute(sql):\n",
    "    print(x)\n",
    "    if i>10: break\n",
    "    i+=1"
   ]
  },
  {
   "cell_type": "code",
   "execution_count": null,
   "metadata": {},
   "outputs": [],
   "source": [
    "for k, v in edb.GetDat(Dat.PATHWAYS).items():\n",
    "    t = 'REACTION-LIST'\n",
    "    if t in v:\n",
    "        print(k)\n",
    "        print(v[t])\n",
    "        break"
   ]
  },
  {
   "cell_type": "code",
   "execution_count": null,
   "metadata": {},
   "outputs": [],
   "source": [
    "edb.GetDat(Dat.REACTIONS)['DARAB5PISOM-RXN']"
   ]
  },
  {
   "cell_type": "code",
   "execution_count": null,
   "metadata": {},
   "outputs": [],
   "source": [
    "prm = edb.GetMapping(Mapping.RXN_PATHWAY)\n",
    "for k, v in prm.items():\n",
    "    print(k)\n",
    "    print(v)\n",
    "    break"
   ]
  },
  {
   "cell_type": "code",
   "execution_count": null,
   "metadata": {},
   "outputs": [],
   "source": [
    "dat = edb.GetDat(Dat.REACTIONS)\n",
    "for k, v in dat.items():\n",
    "    if 'COMMON-NAME' in v:\n",
    "        print(v['COMMON-NAME'])\n",
    "        print(k)\n",
    "        print(v)\n",
    "        break"
   ]
  },
  {
   "cell_type": "code",
   "execution_count": null,
   "metadata": {},
   "outputs": [],
   "source": [
    "dat['RXN0-1134']"
   ]
  },
  {
   "cell_type": "code",
   "execution_count": null,
   "metadata": {},
   "outputs": [],
   "source": [
    "pdat = edb.GetDat(Dat.ENZRXNS)\n",
    "for k, v in pdat.items():\n",
    "    t = 'ENZYME'\n",
    "    if t in v:\n",
    "        print(k)\n",
    "        print(v[t])\n",
    "        print(v)\n",
    "        break"
   ]
  },
  {
   "cell_type": "code",
   "execution_count": null,
   "metadata": {},
   "outputs": [],
   "source": [
    "edb.GetDatFields(Dat.PROTEINS)"
   ]
  },
  {
   "cell_type": "code",
   "execution_count": null,
   "metadata": {},
   "outputs": [],
   "source": [
    "from scripts.pathologic import Entry\n",
    "\n",
    "reactions = edb.GetDat(Dat.ENZRXNS)\n",
    "\n",
    "entries = []\n",
    "others = [\n",
    "    ('EC-NUMBER', 'EC'),\n",
    "    ('GO-TERMS', 'GO'),\n",
    "]\n",
    "for k, v in reactions.items():\n",
    "    e = Entry(v['COMMON-NAME'])\n",
    "    break"
   ]
  },
  {
   "cell_type": "code",
   "execution_count": null,
   "metadata": {},
   "outputs": [],
   "source": [
    "cur = edb._database._cur\n",
    "\n",
    "# edb.registry.GetTable('json_keys_of_dats').Select(['key'], f\"where table_name='{0}'\")\n",
    "# for x in cur.execute(f\"select * from json_keys_of_dats where key='{Dat.PROTEINS.table_name}'\"):\n",
    "#     print(x)\n",
    "for x in cur.execute(f\"select id, found_in from enzrxn_reaction_map where found_in='FORMATEDEHYDROG-RXN'\"):\n",
    "    print(x)"
   ]
  },
  {
   "cell_type": "code",
   "execution_count": null,
   "metadata": {},
   "outputs": [],
   "source": [
    "from enum import Enum\n",
    "\n",
    "class Mapping(Enum):\n",
    "    DB_PROT =       'proteins_dat',    'dblinks_proteins_map', 'DBLINKS',              'proteins_dat'\n",
    "    PROT_ENZRXN =   'enzrxns_dat',     'protein_enzrxn_map',   'ENZYME',               'proteins_dat'\n",
    "    ENZRXN_RXN =    'reactions_dat',   'enzrxn_reaction_map',  'ENZYMATIC-REACTION',   'enzrxns_dat'\n",
    "    RXN_PATHWAY =   'pathways_dat',    'reaction_pathway_map', 'REACTION-LIST',        'reactions_dat'\n",
    "    def __init__(self, to: str, table: str, via: str, frm: str) -> None:\n",
    "        super().__init__()\n",
    "        self.table_name = table\n",
    "        self.map_from = frm\n",
    "        self.map_to = to\n",
    "        self.map_key = via \n",
    "\n",
    "for x in Mapping:\n",
    "    print(x.value)"
   ]
  }
 ],
 "metadata": {
  "interpreter": {
   "hash": "2435c7440461fadc5a1d9e864caea4455b848895712cb9bd14333ad40094f801"
  },
  "kernelspec": {
   "display_name": "Python 3.10.0 ('p310')",
   "language": "python",
   "name": "python3"
  },
  "language_info": {
   "codemirror_mode": {
    "name": "ipython",
    "version": 3
   },
   "file_extension": ".py",
   "mimetype": "text/x-python",
   "name": "python",
   "nbconvert_exporter": "python",
   "pygments_lexer": "ipython3",
   "version": "3.10.0"
  },
  "orig_nbformat": 4
 },
 "nbformat": 4,
 "nbformat_minor": 2
}
