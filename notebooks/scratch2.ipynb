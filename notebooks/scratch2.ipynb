{
 "cells": [
  {
   "cell_type": "code",
   "execution_count": null,
   "metadata": {},
   "outputs": [],
   "source": [
    "import sys\n",
    "sys.path.append('/home/tony/workspace/python/grad/PathPred/ptools')\n",
    "sys.path = list(set(sys.path))"
   ]
  },
  {
   "cell_type": "code",
   "execution_count": 1,
   "metadata": {},
   "outputs": [
    {
     "name": "stdout",
     "output_type": "stream",
     "text": [
      "loading [proteins_dat]\n",
      "\t secondary index: [DBLINKS] as [P-DBLINKS]\n",
      "\t secondary index: [COMMON-NAME] as [P-COMMON-NAME]\n",
      "loading [reactions_dat]\n",
      "\t secondary index: [EC-NUMBER] as [EC-NUMBER]\n",
      "\t secondary index: [COMMON-NAME] as [R-COMMON-NAME]\n",
      "\t secondary index: [LEFT] as [REACTANTS]\n",
      "\t secondary index: [RIGHT] as [PRODUCTS]\n",
      "loading [enzrxns_dat]\n",
      "\t secondary index: [REACTION] as [reactions_dat]\n",
      "\t secondary index: [ENZYME] as [proteins_dat]\n",
      "\t secondary index: [COMMON-NAME] as [E-COMMON-NAME]\n",
      "loading [pathways_dat]\n",
      "\t secondary index: [REACTION-LIST] as [reactions_dat]\n",
      "\t secondary index: [COMMON-NAME] as [W-COMMON-NAME]\n",
      "loading [genes_dat]\n",
      "\t secondary index: [DBLINKS] as [G-DBLINKS]\n",
      "\t secondary index: [COMMON-NAME] as [G-COMMON-NAME]\n",
      "loading [regulation_dat]\n",
      "loading [compounds_dat]\n",
      "\t secondary index: [COMMON-NAME] as [C-COMMON-NAME]\n",
      "loading [protein_features_dat]\n",
      "loading [protligandcplxes_dat]\n",
      "loading [rnas_dat]\n",
      "loading [species_dat]\n",
      "{'ORGID': 'ECOLI', 'ORGANISM': 'E. coli K-12 substr. MG1655', 'VERSION': '25.1', 'RELEASE-DATE': 'Mon Jul 26, 2021', 'Schema_version': '1.0', 'Total_entries': '73223'}\n"
     ]
    }
   ],
   "source": [
    "import os\n",
    "from biocyc_facade.pgdb import ImportFromBiocyc, Pgdb, Dat\n",
    "from biocyc_facade.models.sql import TraceStep\n",
    "\n",
    "DB_DIR = '/home/tony/workspace/python/grad/PathPred/ptools/data/pgdbs'\n",
    "ECO = f'{DB_DIR}/eco'\n",
    "\n",
    "os.system(f'rm {ECO}.pgdb')\n",
    "edb = ImportFromBiocyc(ECO, '/home/tony/workspace/python/grad/resources/eco_meta_cyc_25-5/ecoli/25.1/data')\n",
    "\n",
    "edb = Pgdb(ECO)\n",
    "print(edb.GetInfo())\n",
    "\n",
    "# i = 0\n",
    "# t = edb.Trace('P-DBLINKS', 'W-COMMON-NAME')\n",
    "# # t = edb.Trace('P-DBLINKS', Dat.PROTEINS, True)\n",
    "# # t = edb.Trace('P-DBLINKS', 'P-COMMON-NAME', True)\n",
    "# # t = edb.Trace('P-DBLINKS', 'E-COMMON-NAME', True)\n",
    "# # t = edb.Trace('P-DBLINKS', Dat.REACTIONS)\n",
    "# for tt in t:\n",
    "#     print(tt)\n",
    "#     if i > 5:\n",
    "#         break\n",
    "#     i += 1"
   ]
  },
  {
   "cell_type": "code",
   "execution_count": 2,
   "metadata": {},
   "outputs": [
    {
     "data": {
      "text/plain": [
       "['si',\n",
       " 'sim',\n",
       " 'data_keys',\n",
       " 'info',\n",
       " 'proteins_dat',\n",
       " 'reactions_dat',\n",
       " 'enzrxns_dat',\n",
       " 'pathways_dat',\n",
       " 'genes_dat',\n",
       " 'regulation_dat',\n",
       " 'compounds_dat',\n",
       " 'protein_features_dat',\n",
       " 'protligandcplxes_dat',\n",
       " 'rnas_dat',\n",
       " 'species_dat']"
      ]
     },
     "execution_count": 2,
     "metadata": {},
     "output_type": "execute_result"
    }
   ],
   "source": [
    "[t.name for t in edb.registry.GetTables()]"
   ]
  },
  {
   "cell_type": "code",
   "execution_count": 3,
   "metadata": {},
   "outputs": [
    {
     "data": {
      "text/plain": [
       "['compounds_dat',\n",
       " 'enzrxns_dat',\n",
       " 'genes_dat',\n",
       " 'pathways_dat',\n",
       " 'proteins_dat',\n",
       " 'reactions_dat',\n",
       " 'C-COMMON-NAME',\n",
       " 'E-COMMON-NAME',\n",
       " 'proteins_dat',\n",
       " 'reactions_dat',\n",
       " 'G-COMMON-NAME',\n",
       " 'G-DBLINKS',\n",
       " 'W-COMMON-NAME',\n",
       " 'P-COMMON-NAME',\n",
       " 'P-DBLINKS',\n",
       " 'EC-NUMBER',\n",
       " 'PRODUCTS',\n",
       " 'R-COMMON-NAME',\n",
       " 'REACTANTS']"
      ]
     },
     "execution_count": 3,
     "metadata": {},
     "output_type": "execute_result"
    }
   ],
   "source": [
    "edb.GetTraceableAttributes()"
   ]
  },
  {
   "cell_type": "code",
   "execution_count": 7,
   "metadata": {},
   "outputs": [
    {
     "data": {
      "text/plain": [
       "[('crotonyl-[acp] reductase', 'PWY-5971'),\n",
       " ('<i>trans</i> hex-2-enoyl-[acp]-reductase', 'PWY-5971'),\n",
       " ('hydrogen:menaquinone oxidoreductase', 'PWY0-1576'),\n",
       " ('hydrogen:menaquinone oxidoreductase', 'PWY0-1577'),\n",
       " ('hydrogen:menaquinone oxidoreductase', 'PWY0-1578'),\n",
       " ('thiamin phosphate synthase', 'PWY-6894'),\n",
       " ('3-oxo-meristoyl-[acyl-carrier protein] reductase', 'PWY-5971'),\n",
       " ('lactate oxidation', 'PWY0-1317'),\n",
       " ('D-deoxyribose 1,5-phosphomutase', 'PWY-7180'),\n",
       " ('2-aceto-2-hydroxy-butyrate synthase', 'ILEUSYN-PWY')]"
      ]
     },
     "execution_count": 7,
     "metadata": {},
     "output_type": "execute_result"
    }
   ],
   "source": [
    "t = edb.Trace('R-COMMON-NAME', Dat.PATHWAYS)\n",
    "t[:10]"
   ]
  },
  {
   "cell_type": "code",
   "execution_count": 8,
   "metadata": {},
   "outputs": [
    {
     "data": {
      "text/plain": [
       "[('R-COMMON-NAME -> reactions_dat', 'via reactions_dat.COMMON-NAME'),\n",
       " ('reactions_dat -> pathways_dat', 'via pathways_dat.REACTION-LIST')]"
      ]
     },
     "execution_count": 8,
     "metadata": {},
     "output_type": "execute_result"
    }
   ],
   "source": [
    "t.explanation"
   ]
  },
  {
   "cell_type": "code",
   "execution_count": 4,
   "metadata": {},
   "outputs": [
    {
     "data": {
      "text/plain": [
       "[('1CMET2-PWY', '5-FORMYL-THF-CYCLO-LIGASE-RXN'),\n",
       " ('THIOREDOX-PWY', 'THIOREDOXIN-REDUCT-NADPH-RXN'),\n",
       " ('PWY0-1567', 'RXN-21817'),\n",
       " ('PWY0-166', 'RIBONUCLEOSIDE-DIP-REDUCTII-RXN'),\n",
       " ('PWY-8243', 'RXN0-7343'),\n",
       " ('DTDPRHAMSYN-PWY', 'DTDPGLUCDEHYDRAT-RXN'),\n",
       " ('PWY0-1313', 'ACETATE--COA-LIGASE-RXN'),\n",
       " ('PWY-6012', '3.1.4.14-RXN'),\n",
       " ('PWY-6282', 'RXN-10654'),\n",
       " ('PWY-7220', 'ADPREDUCT-RXN')]"
      ]
     },
     "execution_count": 4,
     "metadata": {},
     "output_type": "execute_result"
    }
   ],
   "source": [
    "t = edb.Trace(Dat.PATHWAYS, Dat.REACTIONS)\n",
    "t[:10]"
   ]
  },
  {
   "cell_type": "code",
   "execution_count": 24,
   "metadata": {},
   "outputs": [
    {
     "data": {
      "text/plain": [
       "[('pathways_dat -> reactions_dat', 'via pathways_dat.REACTION-LIST')]"
      ]
     },
     "execution_count": 24,
     "metadata": {},
     "output_type": "execute_result"
    }
   ],
   "source": [
    "t.explanation"
   ]
  },
  {
   "cell_type": "code",
   "execution_count": 25,
   "metadata": {},
   "outputs": [
    {
     "data": {
      "text/plain": [
       "[('ENZRXN0-7626', 'KETOGLUCONMET-PWY'),\n",
       " ('NITRATREDUCTA-ENZRXN', 'PWY0-1321'),\n",
       " ('NITRATREDUCTA-ENZRXN', 'PWY0-1352'),\n",
       " ('NITRATREDUCTA-ENZRXN', 'PWY0-1581'),\n",
       " ('ENZRXN0-6309', 'PWY-5436'),\n",
       " ('ENZRXN0-12567', 'PWY-7884'),\n",
       " ('BETAGALACTOSID-ENZRXN', 'BGALACT-PWY'),\n",
       " ('ENZRXN0-7622', 'KETOGLUCONMET-PWY'),\n",
       " ('ENZRXN0-8094', 'PWY0-1586'),\n",
       " ('3-OXOACYL-ACP-COA-SYNTHIII-ENZRXN', 'PWY-4381')]"
      ]
     },
     "execution_count": 25,
     "metadata": {},
     "output_type": "execute_result"
    }
   ],
   "source": [
    "t = edb.Trace(Dat.ENZRXNS, Dat.PATHWAYS)\n",
    "t[:10]"
   ]
  },
  {
   "cell_type": "code",
   "execution_count": 26,
   "metadata": {},
   "outputs": [
    {
     "data": {
      "text/plain": [
       "[('enzrxns_dat -> reactions_dat', 'via enzrxns_dat.REACTION'),\n",
       " ('reactions_dat -> pathways_dat', 'via pathways_dat.REACTION-LIST')]"
      ]
     },
     "execution_count": 26,
     "metadata": {},
     "output_type": "execute_result"
    }
   ],
   "source": [
    "t.explanation"
   ]
  },
  {
   "cell_type": "code",
   "execution_count": 9,
   "metadata": {},
   "outputs": [
    {
     "data": {
      "text/plain": [
       "[('enzrxns_dat', 'E->REACTIONS', 'ENZRXN-23640', 'RXN-21601'),\n",
       " ('enzrxns_dat',\n",
       "  'E->REACTIONS',\n",
       "  'HISTAMINOTRANS-ENZRXN',\n",
       "  'HISTAMINOTRANS-RXN'),\n",
       " ('enzrxns_dat', 'E->REACTIONS', 'ENZRXN0-8085', 'TRANS-RXN-292'),\n",
       " ('enzrxns_dat', 'E->REACTIONS', 'ENZRXN0-6218', 'RXN0-5111'),\n",
       " ('enzrxns_dat', 'E->REACTIONS', 'ENZRXN0-8605', 'RXN-19245'),\n",
       " ('enzrxns_dat', 'E->REACTIONS', 'ENZRXN0-7836', 'TRANS-RXN0-583'),\n",
       " ('enzrxns_dat', 'E->REACTIONS', 'TYRS-ENZRXN', 'TYROSINE--TRNA-LIGASE-RXN'),\n",
       " ('enzrxns_dat', 'E->REACTIONS', 'ENZRXN0-12515', 'RXN-9510'),\n",
       " ('enzrxns_dat', 'E->REACTIONS', 'ENZRXN0-7977', 'RXN-9537'),\n",
       " ('enzrxns_dat', 'E->REACTIONS', 'ENZRXN0-18', 'RXN0-17')]"
      ]
     },
     "execution_count": 9,
     "metadata": {},
     "output_type": "execute_result"
    }
   ],
   "source": [
    "list(edb._cur.execute(f\"select * from si where index_name='E->REACTIONS'\"))[:10]"
   ]
  },
  {
   "cell_type": "code",
   "execution_count": null,
   "metadata": {},
   "outputs": [],
   "source": []
  },
  {
   "cell_type": "code",
   "execution_count": 7,
   "metadata": {},
   "outputs": [
    {
     "name": "stdout",
     "output_type": "stream",
     "text": [
      "('PPI', 'PWY-5340')\n",
      "('AMP', 'TRNA-CHARGING-PWY')\n",
      "('Aldehydes', 'ALKANEMONOX-PWY')\n",
      "('WATER', 'PWY-5971')\n",
      "('ADENINE', 'PWY0-1533')\n",
      "('LolA-Lipoprotein-Complex', 'PWY-7884')\n",
      "('Methylated-methyl-acceptors', 'PWY-6153')\n"
     ]
    }
   ],
   "source": [
    "i = 0\n",
    "t = edb.Trace('PRODUCTS', Dat.PATHWAYS)\n",
    "# t = edb.Trace('P-DBLINKS', Dat.PROTEINS, True)\n",
    "# t = edb.Trace('P-DBLINKS', 'P-COMMON-NAME', True)\n",
    "# t = edb.Trace('P-DBLINKS', 'E-COMMON-NAME', True)\n",
    "# t = edb.Trace('P-DBLINKS', Dat.REACTIONS)\n",
    "for tt in t:\n",
    "    print(tt)\n",
    "    if i > 5:\n",
    "        break\n",
    "    i += 1"
   ]
  },
  {
   "cell_type": "code",
   "execution_count": 8,
   "metadata": {},
   "outputs": [
    {
     "data": {
      "text/plain": [
       "['LolA-Lipoprotein-Complex',\n",
       " 'a-mature-triacylated-lipoprotein',\n",
       " 'LolA',\n",
       " 'SN-GLYCEROL-1-PHOSPHATE',\n",
       " 'Diacylglycerol-Prolipoproteins',\n",
       " 'Lipoprotein-signal-peptide',\n",
       " 'MONOMER0-4342',\n",
       " 'Prolipoprotein-Cysteines',\n",
       " 'ADP',\n",
       " '1-Lyso-phospholipids',\n",
       " 'PROTON',\n",
       " 'Pi',\n",
       " 'Peptides-holder']"
      ]
     },
     "execution_count": 8,
     "metadata": {},
     "output_type": "execute_result"
    }
   ],
   "source": [
    "[p for p, w in edb.Trace('PRODUCTS', Dat.PATHWAYS) if w == 'PWY-7884']"
   ]
  },
  {
   "cell_type": "code",
   "execution_count": 9,
   "metadata": {},
   "outputs": [
    {
     "data": {
      "text/plain": [
       "[('PRODUCTS -> reactions_dat', 'via reactions_dat.RIGHT'),\n",
       " ('reactions_dat -> pathways_dat', 'via pathways_dat.REACTION-LIST')]"
      ]
     },
     "execution_count": 9,
     "metadata": {},
     "output_type": "execute_result"
    }
   ],
   "source": [
    "t.explanation"
   ]
  },
  {
   "cell_type": "code",
   "execution_count": 10,
   "metadata": {},
   "outputs": [
    {
     "data": {
      "text/plain": [
       "['lipoprotein posttranslational modification']"
      ]
     },
     "execution_count": 10,
     "metadata": {},
     "output_type": "execute_result"
    }
   ],
   "source": [
    "[p for p, w in edb.Trace('W-COMMON-NAME', Dat.PATHWAYS) if w == 'PWY-7884']"
   ]
  },
  {
   "cell_type": "code",
   "execution_count": 14,
   "metadata": {},
   "outputs": [
    {
     "data": {
      "text/plain": [
       "['RXN-22427',\n",
       " 'RXN-22553',\n",
       " 'RXN-17362',\n",
       " 'RXN0-3201',\n",
       " 'RXN-17363',\n",
       " 'RXN-22554',\n",
       " 'RXN0-20']"
      ]
     },
     "execution_count": 14,
     "metadata": {},
     "output_type": "execute_result"
    }
   ],
   "source": [
    "[p for p, w in edb.Trace(Dat.REACTIONS, Dat.PATHWAYS) if w == 'PWY-7884']"
   ]
  },
  {
   "cell_type": "code",
   "execution_count": 15,
   "metadata": {},
   "outputs": [
    {
     "data": {
      "text/plain": [
       "[]"
      ]
     },
     "execution_count": 15,
     "metadata": {},
     "output_type": "execute_result"
    }
   ],
   "source": [
    "[c for r, c in edb.Trace(Dat.REACTIONS, 'R-COMMON-NAME') if r in ['RXN-22427',\n",
    " 'RXN-22553',\n",
    " 'RXN-17362',\n",
    " 'RXN0-3201',\n",
    " 'RXN-17363',\n",
    " 'RXN-22554',\n",
    " 'RXN0-20']]"
   ]
  },
  {
   "cell_type": "code",
   "execution_count": 18,
   "metadata": {},
   "outputs": [
    {
     "name": "stdout",
     "output_type": "stream",
     "text": [
      "{'TYPES': ['Protein-Modification-Reactions', 'Transport-Reactions'], 'CANNOT-BALANCE?': ['T'], 'CREDITS': ['SRI', 'caspi'], 'ENZYMATIC-REACTION': ['ENZRXN0-12542'], 'IN-PATHWAY': ['PWY-7884'], 'INSTANCE-NAME-TEMPLATE': ['TRANS-RXN-*'], 'LEFT': ['a-mature-triacylated-lipoprotein', 'LolA', 'ATP', 'WATER'], '^COMPARTMENT': ['CCO-MEMBRANE', 'CCO-OUT', 'CCO-OUT', 'CCO-OUT', 'CCO-OUT', 'CCO-OUT', 'CCO-OUT', 'CCO-OUT'], 'PHYSIOLOGICALLY-RELEVANT?': ['T'], 'REACTION-BALANCE-STATUS': [':UNBALANCED-UNFIXABLE'], 'REACTION-DIRECTION': ['PHYSIOL-LEFT-TO-RIGHT'], 'RIGHT': ['LolA-Lipoprotein-Complex', 'ADP', 'Pi', 'PROTON'], 'RXN-LOCATIONS': ['CCO-PM-BAC-NEG']}\n",
      "\n",
      "{'TYPES': ['Transport-Reactions'], 'CREDITS': ['SRI', 'caspi'], 'ENZYMATIC-REACTION': ['ENZRXN0-12567'], 'IN-PATHWAY': ['PWY-7884'], 'INSTANCE-NAME-TEMPLATE': ['TRANS-RXN-*'], 'LEFT': ['LolA-Lipoprotein-Complex'], '^COMPARTMENT': ['CCO-IN', 'CCO-MEMBRANE', 'CCO-IN'], 'PHYSIOLOGICALLY-RELEVANT?': ['T'], 'REACTION-BALANCE-STATUS': [':UNDETERMINED'], 'REACTION-DIRECTION': ['PHYSIOL-LEFT-TO-RIGHT'], 'RIGHT': ['a-mature-triacylated-lipoprotein', 'LolA'], 'RXN-LOCATIONS': ['CCO-OUTER-MEM']}\n",
      "\n",
      "{'TYPES': ['Protein-Modification-Reactions'], 'CANNOT-BALANCE?': ['T'], 'CREDITS': ['O0-13', 'amackie'], 'EC-NUMBER': ['EC-3.4.23.36'], '^OFFICIAL?': ['T'], 'ENZYMATIC-REACTION': ['ENZRXN0-2710'], 'IN-PATHWAY': ['PWY-7884'], 'INSTANCE-NAME-TEMPLATE': ['RXN-*'], 'LEFT': ['MONOMER0-4342', 'WATER'], 'PHYSIOLOGICALLY-RELEVANT?': ['T'], 'REACTION-BALANCE-STATUS': [':UNBALANCED-UNFIXABLE'], 'REACTION-DIRECTION': ['LEFT-TO-RIGHT'], 'RIGHT': ['Diacylglycerol-Prolipoproteins', 'Lipoprotein-signal-peptide'], 'SPECIES': ['ECOLI'], 'SYNONYMS': ['BACTERIAL LEADER PEPTIDASE I', 'SPASE II', 'PREMUREIN-LEADER PEPTIDASE', 'PROLIPOPROTEIN-SIGNAL PEPTIDASE', 'LIPOPROTEIN SIGNAL PEPTIDASE']}\n",
      "\n",
      "{'TYPES': ['Chemical-Reactions', 'Small-Molecule-Reactions'], 'CITATIONS': ['3053642'], 'COMMENT': ['This reaction is the hydrolysis of a peptide bond, typically within a hydrophobic portion of a cleaved signal sequence\\n/peptide. In that case, hydrophobic residues must be at the primary and adjacent sites, with a minimum\\n/of three residues on either side of the cut site.'], 'EC-NUMBER': ['EC-3.4.21'], 'ENZYMATIC-REACTION': ['ENZRXN0-8368', 'ENZRXN0-4343'], 'IN-PATHWAY': ['PWY-7884'], 'INSTANCE-NAME-TEMPLATE': ['RXN-*'], 'LEFT': ['Lipoprotein-signal-peptide', 'WATER'], '^COEFFICIENT': ['n', 'n+1'], 'PHYSIOLOGICALLY-RELEVANT?': ['T'], 'REACTION-BALANCE-STATUS': [':UNDETERMINED'], 'REACTION-DIRECTION': ['PHYSIOL-LEFT-TO-RIGHT'], 'RIGHT': ['Peptides-holder']}\n",
      "\n",
      "{'TYPES': ['Protein-Modification-Reactions'], 'CREDITS': ['O0-13', 'amackie'], 'EC-NUMBER': ['EC-2.3.1.269'], '^OFFICIAL?': ['T'], 'ENZYMATIC-REACTION': ['ENZRXN0-8096'], 'GIBBS-0': ['8.5911255'], 'IN-PATHWAY': ['PWY-7884'], 'INSTANCE-NAME-TEMPLATE': ['RXN-*'], 'LEFT': ['Diacylglycerol-Prolipoproteins', 'Phosphoglycerides'], 'PHYSIOLOGICALLY-RELEVANT?': ['T'], 'REACTION-BALANCE-STATUS': [':BALANCED'], 'REACTION-DIRECTION': ['PHYSIOL-LEFT-TO-RIGHT'], 'RIGHT': ['a-mature-triacylated-lipoprotein', '1-Lyso-phospholipids', 'PROTON'], 'RXN-LOCATIONS': ['CCO-PERI-BAC']}\n",
      "\n",
      "{'TYPES': ['Membrane-Protein-Modification-Reactions', 'Small-Molecule-Reactions', 'Transport-Reactions'], 'CREDITS': ['SRI', 'caspi'], 'IN-PATHWAY': ['PWY-7884'], 'INSTANCE-NAME-TEMPLATE': ['TRANS-RXN-*'], 'LEFT': ['Prolipoprotein-Cysteines'], '^COMPARTMENT': ['CCO-IN', 'CCO-MEMBRANE'], 'PHYSIOLOGICALLY-RELEVANT?': ['T'], 'REACTION-BALANCE-STATUS': [':BALANCED'], 'REACTION-DIRECTION': ['PHYSIOL-LEFT-TO-RIGHT'], 'RIGHT': ['Prolipoprotein-Cysteines'], 'RXN-LOCATIONS': ['CCO-PM-BAC-NEG']}\n",
      "\n",
      "{'TYPES': ['Protein-Modification-Reactions'], 'CREDITS': ['O0-13', 'amackie'], 'EC-NUMBER': ['EC-2.5.1.145'], '^OFFICIAL?': ['T'], 'ENZYMATIC-REACTION': ['ENZRXN0-21'], 'GIBBS-0': ['80.900696'], 'IN-PATHWAY': ['PWY-7884'], 'INSTANCE-NAME-TEMPLATE': ['RXN-*'], 'LEFT': ['Prolipoprotein-Cysteines', 'L-1-PHOSPHATIDYL-GLYCEROL'], 'PHYSIOLOGICALLY-RELEVANT?': ['T'], 'REACTION-BALANCE-STATUS': [':BALANCED'], 'REACTION-DIRECTION': ['PHYSIOL-LEFT-TO-RIGHT'], 'RIGHT': ['MONOMER0-4342', 'SN-GLYCEROL-1-PHOSPHATE', 'PROTON']}\n",
      "\n"
     ]
    }
   ],
   "source": [
    "for r in ['RXN-22427',\n",
    " 'RXN-22553',\n",
    " 'RXN-17362',\n",
    " 'RXN0-3201',\n",
    " 'RXN-17363',\n",
    " 'RXN-22554',\n",
    " 'RXN0-20']:\n",
    "    print(edb.GetDataTable(Dat.REACTIONS)[r])\n",
    "    print()"
   ]
  },
  {
   "cell_type": "code",
   "execution_count": 3,
   "metadata": {},
   "outputs": [
    {
     "data": {
      "text/plain": [
       "['compounds_dat',\n",
       " 'enzrxns_dat',\n",
       " 'genes_dat',\n",
       " 'pathways_dat',\n",
       " 'proteins_dat',\n",
       " 'reactions_dat',\n",
       " 'C-COMMON-NAME',\n",
       " 'E-COMMON-NAME',\n",
       " 'proteins_dat',\n",
       " 'reactions_dat',\n",
       " 'DBLINKS',\n",
       " 'G-COMMON-NAME',\n",
       " 'W-COMMON-NAME',\n",
       " 'P-COMMON-NAME',\n",
       " 'P-DBLINKS',\n",
       " 'EC-NUMBER',\n",
       " 'PRODUCTS',\n",
       " 'R-COMMON-NAME',\n",
       " 'REACTANTS']"
      ]
     },
     "execution_count": 3,
     "metadata": {},
     "output_type": "execute_result"
    }
   ],
   "source": [
    "edb.GetTraceableAttributes()"
   ]
  },
  {
   "cell_type": "code",
   "execution_count": 4,
   "metadata": {},
   "outputs": [
    {
     "name": "stdout",
     "output_type": "stream",
     "text": [
      "('proteins_dat', 'P-DBLINKS', 'DBLINKS')\n",
      "('proteins_dat', 'P-COMMON-NAME', 'COMMON-NAME')\n",
      "('reactions_dat', 'EC-NUMBER', 'EC-NUMBER')\n",
      "('reactions_dat', 'R-COMMON-NAME', 'COMMON-NAME')\n",
      "('reactions_dat', 'REACTANTS', 'LEFT')\n",
      "('reactions_dat', 'PRODUCTS', 'RIGHT')\n",
      "('enzrxns_dat', 'reactions_dat', 'REACTION')\n",
      "('enzrxns_dat', 'proteins_dat', 'ENZYME')\n",
      "('enzrxns_dat', 'E-COMMON-NAME', 'COMMON-NAME')\n",
      "('pathways_dat', 'reactions_dat', 'REACTION-LIST')\n",
      "('pathways_dat', 'W-COMMON-NAME', 'COMMON-NAME')\n",
      "('genes_dat', 'DBLINKS', 'DBLINKS')\n",
      "('genes_dat', 'G-COMMON-NAME', 'COMMON-NAME')\n",
      "('compounds_dat', 'C-COMMON-NAME', 'COMMON-NAME')\n"
     ]
    }
   ],
   "source": [
    "for x in edb._cur.execute(f\"select * from sim\"):\n",
    "    print(x)"
   ]
  },
  {
   "cell_type": "code",
   "execution_count": 9,
   "metadata": {},
   "outputs": [
    {
     "data": {
      "text/plain": [
       "{'CITATIONS',\n",
       " 'CLASS-INSTANCE-LINKS',\n",
       " 'COMMENT',\n",
       " 'COMMON-NAME',\n",
       " 'CREDITS',\n",
       " 'DBLINKS',\n",
       " 'DIAGRAM-INFO',\n",
       " 'ENZYMES-NOT-USED',\n",
       " 'HYPOTHETICAL-REACTIONS',\n",
       " 'IN-PATHWAY',\n",
       " 'INSTANCE-NAME-TEMPLATE',\n",
       " 'KEY-REACTIONS',\n",
       " 'PATHWAY-LINKS',\n",
       " 'POLYMERIZATION-LINKS',\n",
       " 'PREDECESSORS',\n",
       " 'PRIMARIES',\n",
       " 'REACTION-LAYOUT',\n",
       " 'REACTION-LIST',\n",
       " 'SUB-PATHWAYS',\n",
       " 'SUPER-PATHWAYS',\n",
       " 'SYNONYMS',\n",
       " 'TYPES'}"
      ]
     },
     "execution_count": 9,
     "metadata": {},
     "output_type": "execute_result"
    }
   ],
   "source": [
    "edb.GetKeysOfDataTable(Dat.PATHWAYS)"
   ]
  },
  {
   "cell_type": "code",
   "execution_count": 11,
   "metadata": {},
   "outputs": [
    {
     "data": {
      "text/plain": [
       "[('PWY-1269', ['LPSSYN-PWY', 'KDO-NAGLIPASYN-PWY']),\n",
       " ('UDPNAGSYN-PWY', ['OANTIGEN-PWY']),\n",
       " ('PWY-46', ['POLYAMSYN-PWY']),\n",
       " ('PWY-40', ['POLYAMSYN-PWY']),\n",
       " ('BSUBPOLYAMSYN-PWY', ['POLYAMSYN-PWY']),\n",
       " ('ENTBACSYN-PWY', ['ALL-CHORISMATE-PWY']),\n",
       " ('PWY0-1545', ['PHOSLIPSYN-PWY']),\n",
       " ('PWY-5668', ['PHOSLIPSYN-PWY']),\n",
       " ('PWY0-1319', ['PHOSLIPSYN-PWY']),\n",
       " ('PWY-5667', ['PHOSLIPSYN-PWY']),\n",
       " ('PWY-5669', ['PHOSLIPSYN-PWY']),\n",
       " ('PWY-5755', ['UBISYN-PWY']),\n",
       " ('PWY-4381', ['FASYN-INITIAL-PWY']),\n",
       " ('PWY-6543', ['PWY-6612']),\n",
       " ('PWY-6163', ['ARO-PWY']),\n",
       " ('ARO-PWY', ['COMPLETE-ARO-PWY']),\n",
       " ('PWY-5453', ['METHGLYUT-PWY']),\n",
       " ('PWY-5386', ['METHGLYUT-PWY']),\n",
       " ('PWY-5459', ['METHGLYUT-PWY']),\n",
       " ('PWY-7183', ['PWY-7208', 'PWY-7194', 'PWY-7196']),\n",
       " ('PWY-7205', ['PWY-7196']),\n",
       " ('HEMESYN2-PWY', ['PWY0-1415']),\n",
       " ('PWY-5973', ['PWY-6284']),\n",
       " ('PWY-6282', ['PWY-6284']),\n",
       " ('PWY0-862', ['PWY-6284', 'PWY0-881']),\n",
       " ('HEME-BIOSYNTHESIS-II-1', ['PWY0-1415']),\n",
       " ('PWY-7193', ['PWY-7196']),\n",
       " ('PWY-6910', ['PWY-6897']),\n",
       " ('PWY-6894', ['THISYN-PWY']),\n",
       " ('PWY-6890', ['THISYN-PWY']),\n",
       " ('PWY-7176', ['PWY-7208', 'PWY-7196', 'PWY0-162']),\n",
       " ('SAM-PWY', ['PWY0-781', 'MET-SAM-PWY']),\n",
       " ('PWY-6892', ['THISYN-PWY']),\n",
       " ('PWY-6123', ['DENOVOPURINE2-PWY']),\n",
       " ('PWY-6614', ['PWY-6612']),\n",
       " ('GLYCOLATEMET-PWY', ['GLYCOL-GLYOXDEG-PWY']),\n",
       " ('PWY-6612', ['ALL-CHORISMATE-PWY']),\n",
       " ('GLYOXDEG-PWY', ['GLYCOL-GLYOXDEG-PWY']),\n",
       " ('PWY0-823', ['ARGDEG-PWY']),\n",
       " ('4AMINOBUTMETAB-PWY', ['ARGDEG-PWY']),\n",
       " ('PWY-6537', ['4AMINOBUTMETAB-PWY']),\n",
       " ('PWY-6535', ['4AMINOBUTMETAB-PWY']),\n",
       " ('PWY-6121', ['PWY-6277']),\n",
       " ('PWY-6126', ['DENOVOPURINE2-PWY']),\n",
       " ('PWY-6122', ['PWY-6277', 'DENOVOPURINE2-PWY']),\n",
       " ('P4-PWY', ['PWY0-781']),\n",
       " ('COMPLETE-ARO-PWY', ['ALL-CHORISMATE-PWY']),\n",
       " ('IDNCAT-PWY', ['KETOGLUCONMET-PWY']),\n",
       " ('METSYN-PWY', ['MET-SAM-PWY']),\n",
       " ('PWY-6125', ['DENOVOPURINE2-PWY']),\n",
       " ('PWY-7242', ['GLUCUROCAT-PWY']),\n",
       " ('ARGSYN-PWY', ['ARG+POLYAMINE-SYN']),\n",
       " ('PWY-5509', ['COBALSYN-PWY']),\n",
       " ('PWY-7971', ['COBALSYN-PWY']),\n",
       " ('DENOVOPURINE2-PWY', ['PRPP-PWY']),\n",
       " ('PWY-7180', ['PWY0-1297', 'PWY0-1298']),\n",
       " ('THRESYN-PWY', ['P4-PWY']),\n",
       " ('FUCCAT-PWY', ['FUC-RHAMCAT-PWY']),\n",
       " ('PWY0-1315', ['FUC-RHAMCAT-PWY']),\n",
       " ('PWY0-162', ['PRPP-PWY', 'PWY-7211']),\n",
       " ('GLYOXYLATE-BYPASS', ['TCA-GLYOX-BYPASS']),\n",
       " ('PWY0-1317', ['PWY-5459', 'FUC-RHAMCAT-PWY']),\n",
       " ('ARGDEG-PWY', ['ORNARGDEG-PWY']),\n",
       " ('TCA-GLYOX-BYPASS', ['GLYCOLYSIS-TCA-GLYOX-BYPASS']),\n",
       " ('ECASYN-PWY', ['PWY-8227']),\n",
       " ('PWY0-1312', ['ACETATEUTIL-PWY']),\n",
       " ('LIPA-CORESYN-PWY', ['LPSSYN-PWY']),\n",
       " ('PWY-4261', ['PWY0-381']),\n",
       " ('PANTO-PWY', ['PANTOSYN-PWY']),\n",
       " ('NAGLIPASYN-PWY', ['LPSSYN-PWY', 'KDO-NAGLIPASYN-PWY']),\n",
       " ('PWY0-662', ['PRPP-PWY']),\n",
       " ('PWY-7220', ['PWY-6126']),\n",
       " ('PWY-5162', ['PWY0-1277']),\n",
       " ('PWY0-1313', ['ACETATEUTIL-PWY']),\n",
       " ('PWY0-1324', ['GLCMANNANAUT-PWY']),\n",
       " ('PWY-5852', ['ALL-CHORISMATE-PWY', 'PWY-5838']),\n",
       " ('PWY-5785', ['POLYISOPRENSYN-PWY']),\n",
       " ('PWY-5783', ['UBISYN-PWY', 'POLYISOPRENSYN-PWY', 'PWY-5838']),\n",
       " ('PWY-5123', ['UBISYN-PWY', 'POLYISOPRENSYN-PWY']),\n",
       " ('PWY-5698', ['PWY0-41', 'PWY-5705']),\n",
       " ('ENTNER-DOUDOROFF-PWY', ['GLYCOLYSIS-E-D']),\n",
       " ('RHAMCAT-PWY', ['FUC-RHAMCAT-PWY']),\n",
       " ('PWY0-1507', ['BIOTIN-BIOSYNTHESIS-PWY']),\n",
       " ('PWY-5686', ['PWY0-162']),\n",
       " ('PLPSAL-PWY', ['PWY0-845']),\n",
       " ('PYRIDOXSYN-PWY', ['PWY0-845']),\n",
       " ('HCAMHPDEG-PWY', ['PWY0-1277']),\n",
       " ('PYRIDNUCSYN-PWY', ['PWY0-781']),\n",
       " ('PWY-5340', ['SO4ASSIM-PWY']),\n",
       " ('ORNDEG-PWY', ['ORNARGDEG-PWY']),\n",
       " ('SO4ASSIM-PWY', ['SULFATE-CYS-PWY']),\n",
       " ('2PHENDEG-PWY', ['PWY-6071']),\n",
       " ('PWY-6952', ['PWY0-381']),\n",
       " ('PWY-5901', ['ENTBACSYN-PWY']),\n",
       " ('PWY-6164', ['ARO-PWY']),\n",
       " ('PWY-5837', ['ALL-CHORISMATE-PWY', 'PWY-5838']),\n",
       " ('PWY-6708', ['UBISYN-PWY']),\n",
       " ('UBISYN-PWY', ['ALL-CHORISMATE-PWY']),\n",
       " ('MENAQUINONESYN-PWY', ['ALL-CHORISMATE-PWY', 'PWY-5838']),\n",
       " ('PWY-6556', ['PWY-7196']),\n",
       " ('PWY-7181', ['PWY0-1298']),\n",
       " ('HOMOSERSYN-PWY', ['THRESYN-PWY', 'METSYN-PWY']),\n",
       " ('ASPARAGINE-BIOSYNTHESIS', ['PWY0-1325']),\n",
       " ('ASPARAGINESYN-PWY', ['ASPASN-PWY', 'PWY0-1325']),\n",
       " ('HOMOSER-THRESYN-PWY', ['THRESYN-PWY']),\n",
       " ('VALSYN-PWY', ['BRANCHED-CHAIN-AA-SYN-PWY']),\n",
       " ('HISTSYN-PWY', ['PRPP-PWY']),\n",
       " ('DAPLYSINESYN-PWY', ['P4-PWY']),\n",
       " ('CYSTSYN-PWY', ['SULFATE-CYS-PWY']),\n",
       " ('TYRSYN', ['COMPLETE-ARO-PWY']),\n",
       " ('GLYSYN-PWY', ['SER-GLYSYN-PWY']),\n",
       " ('LEUSYN-PWY', ['BRANCHED-CHAIN-AA-SYN-PWY']),\n",
       " ('PHESYN', ['COMPLETE-ARO-PWY']),\n",
       " ('PWY0-1021', ['PWY0-1061']),\n",
       " ('ALANINE-VALINESYN-PWY', ['PWY0-1061']),\n",
       " ('ALANINE-SYN2-PWY', ['PWY0-1061']),\n",
       " ('SERSYN-PWY', ['SULFATE-CYS-PWY', 'SER-GLYSYN-PWY']),\n",
       " ('ASPARTATESYN-PWY', ['ASPASN-PWY', 'PWY0-781', 'THRESYN-PWY']),\n",
       " ('TRPSYN-PWY', ['COMPLETE-ARO-PWY']),\n",
       " ('ILEUSYN-PWY', ['BRANCHED-CHAIN-AA-SYN-PWY', 'THREOCAT-PWY']),\n",
       " ('HOMOSER-METSYN-PWY', ['P4-PWY', 'METSYN-PWY']),\n",
       " ('GLUTORN-PWY', ['ARGSYN-PWY']),\n",
       " ('PWY-5155', ['PANTOSYN-PWY']),\n",
       " ('PWY-5484', ['HEXITOLDEGSUPER-PWY']),\n",
       " ('GLYCOLYSIS', ['GLYCOLYSIS-TCA-GLYOX-BYPASS', 'GLYCOLYSIS-E-D']),\n",
       " ('NONOXIPENT-PWY', ['PENTOSE-P-PWY']),\n",
       " ('OXIDATIVEPENT-PWY', ['PENTOSE-P-PWY']),\n",
       " ('TCA', ['TCA-GLYOX-BYPASS']),\n",
       " ('PWY-6147', ['PWY-6612']),\n",
       " ('PUTDEG-PWY', ['ORNDEG-PWY', 'ARGDEG-PWY']),\n",
       " ('GLUAMCAT-PWY', ['GLCMANNANAUT-PWY']),\n",
       " ('PWY0-1221', ['ORNDEG-PWY', 'ARGDEG-PWY']),\n",
       " ('MANNIDEG-PWY', ['HEXITOLDEGSUPER-PWY']),\n",
       " ('GALACTITOLCAT-PWY', ['HEXITOLDEGSUPER-PWY']),\n",
       " ('SORBDEG-PWY', ['HEXITOLDEGSUPER-PWY']),\n",
       " ('GLUCARDEG-PWY', ['GLUCARGALACTSUPER-PWY']),\n",
       " ('GALACTUROCAT-PWY', ['GALACT-GLUCUROCAT-PWY']),\n",
       " ('GALACTARDEG-PWY', ['GLUCARGALACTSUPER-PWY']),\n",
       " ('GLUCUROCAT-PWY', ['GALACT-GLUCUROCAT-PWY']),\n",
       " ('PWY-7219', ['PWY-6126']),\n",
       " ('PWY-7247', ['GLUCUROCAT-PWY']),\n",
       " ('PWY-7221', ['PWY-6125']),\n",
       " ('PWY-6519', ['BIOTIN-BIOSYNTHESIS-PWY']),\n",
       " ('PWY-7187', ['PWY0-166']),\n",
       " ('PWY-7184', ['PWY-7211', 'PWY0-166']),\n",
       " ('PWY-7222', ['PWY-6125']),\n",
       " ('PWY-6618', ['PWY-6579']),\n",
       " ('PWY-6620', ['PWY-6579']),\n",
       " ('COA-PWY', ['PANTOSYN-PWY']),\n",
       " ('POLYAMSYN-PWY', ['ARG+POLYAMINE-SYN']),\n",
       " ('PWY0-1303', ['POLYAMSYN-PWY']),\n",
       " ('PWY-7344', ['COLANSYN-PWY']),\n",
       " ('PWY-7343', ['COLANSYN-PWY']),\n",
       " ('PWY-7335', ['PWY-8227']),\n",
       " ('PWY-7346', ['COLANSYN-PWY']),\n",
       " ('PWY-66', ['COLANSYN-PWY']),\n",
       " ('PWY-5659', ['COLANSYN-PWY']),\n",
       " ('PWY-7315', ['PWY-8227']),\n",
       " ('DTDPRHAMSYN-PWY', ['OANTIGEN-PWY']),\n",
       " ('PWY0-1280', ['GLYCOL-GLYOXDEG-PWY']),\n",
       " ('PWY-5436', ['THREOCAT-PWY']),\n",
       " ('THRDLCTCAT-PWY', ['THREOCAT-PWY']),\n",
       " ('PWY-5437', ['THREOCAT-PWY']),\n",
       " ('KDOSYN-PWY', ['LPSSYN-PWY', 'KDO-NAGLIPASYN-PWY']),\n",
       " ('THREONINE-DEG2-PWY', ['THREOCAT-PWY']),\n",
       " ('PWY-7179', ['PWY0-1297']),\n",
       " ('FASYN-INITIAL-PWY', ['PWY0-881']),\n",
       " ('FASYN-ELONG-PWY', ['PWY0-881']),\n",
       " ('PWY-5966', ['FASYN-INITIAL-PWY']),\n",
       " ('PWY-5965', ['FASYN-INITIAL-PWY']),\n",
       " ('KDO-LIPASYN-PWY', ['LPSSYN-PWY']),\n",
       " ('PWY0-321', ['PWY-6071']),\n",
       " ('PWY-6387', ['PEPTIDOGLYCANSYN-PWY'])]"
      ]
     },
     "execution_count": 11,
     "metadata": {},
     "output_type": "execute_result"
    }
   ],
   "source": [
    "[(k, v['IN-PATHWAY']) for k, v in edb.GetDataTable(Dat.PATHWAYS).items() if 'IN-PATHWAY' in v]"
   ]
  },
  {
   "cell_type": "code",
   "execution_count": null,
   "metadata": {},
   "outputs": [],
   "source": [
    "x = edb.ListEntries(Dat.GENES)\n",
    "x[:5]\n"
   ]
  },
  {
   "cell_type": "code",
   "execution_count": null,
   "metadata": {},
   "outputs": [],
   "source": [
    "x = edb.GetEntry(Dat.GENES, 'EG10002')\n",
    "x"
   ]
  },
  {
   "cell_type": "code",
   "execution_count": null,
   "metadata": {},
   "outputs": [],
   "source": [
    "FWD, REV = True, False\n",
    "method = [\n",
    "    (REV, 'DBLINKS', 'proteins_dat'),\n",
    "    (REV, 'ENZYME', 'enzrxns_dat'),\n",
    "    (FWD, 'REACTION', 'enzrxns_dat'),\n",
    "    # (REV, 'REACTION-LIST', 'pathways_dat'),\n",
    "    (FWD, 'EC-NUMBER', 'reactions_dat'),\n",
    "]\n",
    "\n",
    "trace = edb._database.Trace([\n",
    "    TraceStep(REV, 'DBLINKS', 'proteins_dat'),\n",
    "    TraceStep(REV, 'ENZYME', 'enzrxns_dat'),\n",
    "    TraceStep(FWD, 'REACTION', 'enzrxns_dat'),\n",
    "    TraceStep(REV, 'REACTION-LIST', 'pathways_dat'),\n",
    "])\n",
    "\n",
    "print(len(trace))\n",
    "for s, e in trace[:15]:\n",
    "    print(s, \" --- \", e)"
   ]
  },
  {
   "cell_type": "code",
   "execution_count": null,
   "metadata": {},
   "outputs": [],
   "source": [
    "cur = edb._database._cur\n",
    "i = 0\n",
    "# p -> er\n",
    "# for x in cur.execute(f\"\"\"select a, b from \\\n",
    "#     (select x.s_key as a, x.p_key as b from secondary_index as x where x.table_name='enzrxns_dat')\"\"\"):\n",
    "# p -> r \n",
    "# for x in cur.execute(f\"\"\" \\\n",
    "# select x.s_key, y.s_key from \\\n",
    "#     (si as x inner join si as y on x.p_key=y.p_key) \\\n",
    "# where x.index_name='ENZYME'\"\"\"):\n",
    "\n",
    "# p -> w\n",
    "# and y.index_name='REACTION' \n",
    "# and z.index_name='REACTION-LIST'\n",
    "for x in cur.execute(f\"\"\"select x.s_key, x.table_name, z.p_key from \\\n",
    "    (si as x inner join ( \\\n",
    "        si as y inner join si as z on y.s_key=z.s_key \\\n",
    "    ) on x.p_key=y.p_key) where x.index_name='ENZYME' and y.index_name='REACTION'  and z.index_name='REACTION-LIST'\"\"\"):\n",
    "    print(x)\n",
    "    if i>10: break\n",
    "    i+=1"
   ]
  },
  {
   "cell_type": "code",
   "execution_count": null,
   "metadata": {},
   "outputs": [],
   "source": [
    "FWD, REV = True, False\n",
    "method = [\n",
    "    (REV, 'ENZYME', 'enzrxns_dat'),\n",
    "    (FWD, 'REACTION', 'enzrxns_dat'),\n",
    "    # (REV, 'REACTION-LIST', 'pathways_dat'),\n",
    "    (FWD, 'EC-NUMBER', 'reactions_dat'),\n",
    "]\n",
    "\n",
    "def conv(i, base=26):\n",
    "    off = 97\n",
    "    c = lambda x: chr(x+off-1) if x != 0 else 'z'\n",
    "    if i > base-1:\n",
    "        next = (i//base)*base\n",
    "        rem = i - next\n",
    "        print(next, rem)\n",
    "        return f'{conv(next//base)}{c(rem)}'\n",
    "    else:\n",
    "        return f'{c(i)}'\n",
    "\n",
    "def makeSql(methods):\n",
    "    pk = 'p_key'\n",
    "    sk = 's_key'\n",
    "    def recurse(m, i):\n",
    "        fwd, key, table = m[0]\n",
    "        x = conv(i)\n",
    "\n",
    "        if len(m) == 1:\n",
    "            return f\"si AS {x}\", f\"{x}.index_name='{key}' and {x}.table_name='{table}'\"\n",
    "\n",
    "        f2, k2, t2 = m[1]\n",
    "        y = conv(i+1)\n",
    "        link = f\"{x}.{sk if fwd else pk}={y}.{pk if f2 else sk}\"\n",
    "        if len(m) == 2:\n",
    "            joins = f\"si AS {x} INNER JOIN si AS {y} ON {link}\"\n",
    "            where = f\"{x}.index_name='{key}' AND {x}.table_name='{table}' AND {y}.index_name='{k2}' AND {y}.table_name='{t2}'\"\n",
    "        else:\n",
    "            pjoins, pwhere = recurse(m[1:], i+1)\n",
    "            joins = f\"si AS {x} INNER JOIN ({pjoins}) ON {link}\"\n",
    "            where = f\"{x}.index_name='{key}' AND {x}.table_name='{table}' AND {pwhere}\"\n",
    "        return joins, where\n",
    "\n",
    "    j, w = recurse(methods, 1)\n",
    "    ka = pk if methods[0][0] else sk\n",
    "    kb = pk if not methods[-1][0] else sk\n",
    "    return f\"SELECT {conv(1)}.{ka}, {conv(len(methods))}.{kb} FROM ({j}) WHERE {w}\"\n",
    "\n",
    "# sql = ''\n",
    "# for dir, key, table in method:\n",
    "#     sql = f\"\"\n",
    "\n",
    "x = makeSql(method)\n",
    "print(x)"
   ]
  },
  {
   "cell_type": "code",
   "execution_count": null,
   "metadata": {},
   "outputs": [],
   "source": [
    "# p -> r \n",
    "# for x in cur.execute(f\"\"\" \\\n",
    "# select x.s_key, y.s_key from \\\n",
    "#     (si as x inner join si as y on x.p_key=y.p_key) \\\n",
    "# where x.index_name='ENZYME'\"\"\"):"
   ]
  },
  {
   "cell_type": "code",
   "execution_count": null,
   "metadata": {},
   "outputs": [],
   "source": [
    "FWD, REV = True, False\n",
    "method = [\n",
    "    (REV, 'DBLINKS', 'proteins_dat'),\n",
    "    (REV, 'ENZYME', 'enzrxns_dat'),\n",
    "    (FWD, 'REACTION', 'enzrxns_dat'),\n",
    "    # (REV, 'REACTION-LIST', 'pathways_dat'),\n",
    "    (FWD, 'EC-NUMBER', 'reactions_dat'),\n",
    "]\n",
    "\n",
    "sql = makeSql(method[0:3])\n",
    "print(sql)\n",
    "sql += \"and a.s_key LIKE 'UNIPROT%'\"\n",
    "i = 0\n",
    "for x in cur.execute(sql):\n",
    "    print(x)\n",
    "    if i>10: break\n",
    "    i+=1"
   ]
  },
  {
   "cell_type": "code",
   "execution_count": null,
   "metadata": {},
   "outputs": [],
   "source": [
    "for k, v in edb.GetDat(Dat.PATHWAYS).items():\n",
    "    t = 'REACTION-LIST'\n",
    "    if t in v:\n",
    "        print(k)\n",
    "        print(v[t])\n",
    "        break"
   ]
  },
  {
   "cell_type": "code",
   "execution_count": null,
   "metadata": {},
   "outputs": [],
   "source": [
    "edb.GetDat(Dat.REACTIONS)['DARAB5PISOM-RXN']"
   ]
  },
  {
   "cell_type": "code",
   "execution_count": null,
   "metadata": {},
   "outputs": [],
   "source": [
    "prm = edb.GetMapping(Mapping.RXN_PATHWAY)\n",
    "for k, v in prm.items():\n",
    "    print(k)\n",
    "    print(v)\n",
    "    break"
   ]
  },
  {
   "cell_type": "code",
   "execution_count": null,
   "metadata": {},
   "outputs": [],
   "source": [
    "dat = edb.GetDat(Dat.REACTIONS)\n",
    "for k, v in dat.items():\n",
    "    if 'COMMON-NAME' in v:\n",
    "        print(v['COMMON-NAME'])\n",
    "        print(k)\n",
    "        print(v)\n",
    "        break"
   ]
  },
  {
   "cell_type": "code",
   "execution_count": null,
   "metadata": {},
   "outputs": [],
   "source": [
    "dat['RXN0-1134']"
   ]
  },
  {
   "cell_type": "code",
   "execution_count": null,
   "metadata": {},
   "outputs": [],
   "source": [
    "pdat = edb.GetDat(Dat.ENZRXNS)\n",
    "for k, v in pdat.items():\n",
    "    t = 'ENZYME'\n",
    "    if t in v:\n",
    "        print(k)\n",
    "        print(v[t])\n",
    "        print(v)\n",
    "        break"
   ]
  },
  {
   "cell_type": "code",
   "execution_count": null,
   "metadata": {},
   "outputs": [],
   "source": [
    "edb.GetDatFields(Dat.PROTEINS)"
   ]
  },
  {
   "cell_type": "code",
   "execution_count": null,
   "metadata": {},
   "outputs": [],
   "source": [
    "from scripts.pathologic import Entry\n",
    "\n",
    "reactions = edb.GetDat(Dat.ENZRXNS)\n",
    "\n",
    "entries = []\n",
    "others = [\n",
    "    ('EC-NUMBER', 'EC'),\n",
    "    ('GO-TERMS', 'GO'),\n",
    "]\n",
    "for k, v in reactions.items():\n",
    "    e = Entry(v['COMMON-NAME'])\n",
    "    break"
   ]
  },
  {
   "cell_type": "code",
   "execution_count": null,
   "metadata": {},
   "outputs": [],
   "source": [
    "cur = edb._database._cur\n",
    "\n",
    "# edb.registry.GetTable('json_keys_of_dats').Select(['key'], f\"where table_name='{0}'\")\n",
    "# for x in cur.execute(f\"select * from json_keys_of_dats where key='{Dat.PROTEINS.table_name}'\"):\n",
    "#     print(x)\n",
    "for x in cur.execute(f\"select id, found_in from enzrxn_reaction_map where found_in='FORMATEDEHYDROG-RXN'\"):\n",
    "    print(x)"
   ]
  },
  {
   "cell_type": "code",
   "execution_count": null,
   "metadata": {},
   "outputs": [],
   "source": [
    "from enum import Enum\n",
    "\n",
    "class Mapping(Enum):\n",
    "    DB_PROT =       'proteins_dat',    'dblinks_proteins_map', 'DBLINKS',              'proteins_dat'\n",
    "    PROT_ENZRXN =   'enzrxns_dat',     'protein_enzrxn_map',   'ENZYME',               'proteins_dat'\n",
    "    ENZRXN_RXN =    'reactions_dat',   'enzrxn_reaction_map',  'ENZYMATIC-REACTION',   'enzrxns_dat'\n",
    "    RXN_PATHWAY =   'pathways_dat',    'reaction_pathway_map', 'REACTION-LIST',        'reactions_dat'\n",
    "    def __init__(self, to: str, table: str, via: str, frm: str) -> None:\n",
    "        super().__init__()\n",
    "        self.table_name = table\n",
    "        self.map_from = frm\n",
    "        self.map_to = to\n",
    "        self.map_key = via \n",
    "\n",
    "for x in Mapping:\n",
    "    print(x.value)"
   ]
  }
 ],
 "metadata": {
  "interpreter": {
   "hash": "2435c7440461fadc5a1d9e864caea4455b848895712cb9bd14333ad40094f801"
  },
  "kernelspec": {
   "display_name": "Python 3.10.0 ('p310')",
   "language": "python",
   "name": "python3"
  },
  "language_info": {
   "codemirror_mode": {
    "name": "ipython",
    "version": 3
   },
   "file_extension": ".py",
   "mimetype": "text/x-python",
   "name": "python",
   "nbconvert_exporter": "python",
   "pygments_lexer": "ipython3",
   "version": "3.10.0"
  },
  "orig_nbformat": 4
 },
 "nbformat": 4,
 "nbformat_minor": 2
}
