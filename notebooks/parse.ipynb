{
 "cells": [
  {
   "cell_type": "code",
   "execution_count": 3,
   "metadata": {},
   "outputs": [],
   "source": [
    "from typing import Callable\n",
    "\n",
    "def passfn(x):\n",
    "    return x\n",
    "\n",
    "# if parser (Callable) returns false, skip\n",
    "def parse(fpath: str, key: str, fields: dict[str, Callable]) -> dict:\n",
    "    file = open(fpath, encoding='latin-1')\n",
    "\n",
    "    parsed = {}\n",
    "    def pushItem():\n",
    "        nonlocal item\n",
    "        ik = item[key][0]\n",
    "        del item[key]\n",
    "        parsed[ik] = item\n",
    "        item = {}\n",
    "\n",
    "    def addField(f, v):\n",
    "        if not v: return\n",
    "        nonlocal item\n",
    "        if f in item:\n",
    "            data = item[f]\n",
    "            data.append(v)\n",
    "        else:\n",
    "            item[f] = [v]\n",
    "\n",
    "    item = {}\n",
    "    def parseField(entry: str):\n",
    "        tok = entry.split(' - ')\n",
    "        field, value = tok[0], ' - '.join(tok[1:])\n",
    "        \n",
    "        if len(item)>0 and field == key:\n",
    "            pushItem()\n",
    "\n",
    "        if field == key:\n",
    "            addField(field, value[:-1])\n",
    "        elif field in fields:\n",
    "            parser = fields[field]\n",
    "            addField(field, parser(value[:-1]))\n",
    "\n",
    "    entry = ''\n",
    "    while 1:\n",
    "        line = file.readline()\n",
    "        if not line: # end\n",
    "            parseField(entry)\n",
    "            pushItem()\n",
    "            break\n",
    "        if line.startswith('#'): continue\n",
    "        if line.startswith('//'): continue\n",
    "        if not line.startswith('/'):\n",
    "            parseField(entry)\n",
    "            entry = ''\n",
    "\n",
    "        entry += line\n",
    "        \n",
    "    file.close()\n",
    "    return parsed"
   ]
  },
  {
   "cell_type": "code",
   "execution_count": 4,
   "metadata": {},
   "outputs": [],
   "source": [
    "import numpy as np"
   ]
  },
  {
   "cell_type": "code",
   "execution_count": 5,
   "metadata": {},
   "outputs": [
    {
     "data": {
      "text/plain": [
       "('FERREDOXIN-MONOMER',\n",
       " {'DBLINKS': [['UNIPROT', 'P0A9R4']],\n",
       "  'GO-TERMS': ['GO:0022900',\n",
       "   'GO:0051536',\n",
       "   'GO:0046872',\n",
       "   'GO:0005829',\n",
       "   'GO:0016226',\n",
       "   'GO:0009055',\n",
       "   'GO:0051537',\n",
       "   'GO:0005515'],\n",
       "  'SPECIES': ['TAX-511145']})"
      ]
     },
     "execution_count": 5,
     "metadata": {},
     "output_type": "execute_result"
    }
   ],
   "source": [
    "x = parse('./proteins.dat', 'UNIQUE-ID', {\n",
    "    'DBLINKS': lambda x: x.replace('(', '').replace('\"', '').split(' ')[:2] if x.startswith('(UNIPROT') else False,\n",
    "    'SPECIES': passfn,\n",
    "    'GO-TERMS': passfn,\n",
    "})\n",
    "np.save('proteins', x)\n",
    "list(x)[0], x[list(x)[0]]"
   ]
  },
  {
   "cell_type": "code",
   "execution_count": 41,
   "metadata": {},
   "outputs": [
    {
     "data": {
      "text/plain": [
       "('TRANS-ENZRXN-325',\n",
       " {'COMMON-NAME': ['methionine transport'],\n",
       "  'ENZYME': ['METNIQ-METHIONINE-ABC-CPLX'],\n",
       "  'REACTION': ['TRANS-RXN0-202']})"
      ]
     },
     "execution_count": 41,
     "metadata": {},
     "output_type": "execute_result"
    }
   ],
   "source": [
    "fname = './enzrxns.dat'\n",
    "x = parse(fname, 'UNIQUE-ID', {\n",
    "    'ENZYME': passfn,\n",
    "    'COMMON-NAME': passfn,\n",
    "    'REACTION': passfn,\n",
    "})\n",
    "np.save('.'.join(fname.split('.')[:-1]), x)\n",
    "list(x)[0], x[list(x)[0]]"
   ]
  },
  {
   "cell_type": "code",
   "execution_count": 10,
   "metadata": {},
   "outputs": [
    {
     "data": {
      "text/plain": [
       "('METHYLACYLYLCOA-HYDROXY-RXN',\n",
       " {'COMMON-NAME': ['methylacrylyl-CoA hydratase'],\n",
       "  'EC-NUMBER': ['EC-4.2.1.150'],\n",
       "  'ENZYMATIC-REACTION': ['ENZRXN-12079', 'ENZRXN-12077'],\n",
       "  'GIBBS-0': ['-0.8670044'],\n",
       "  'IN-PATHWAY': ['VALDEG-PWY'],\n",
       "  'LEFT': ['CPD-12173'],\n",
       "  'REACTION-DIRECTION': ['REVERSIBLE'],\n",
       "  'RIGHT': ['METHACRYLYL-COA', 'WATER']})"
      ]
     },
     "execution_count": 10,
     "metadata": {},
     "output_type": "execute_result"
    }
   ],
   "source": [
    "fname = './reactions.dat'\n",
    "x = parse(fname, 'UNIQUE-ID', {\n",
    "    'IN-PATHWAY': passfn,\n",
    "    'GIBBS-0': lambda x: x.strip(),\n",
    "    'EC-NUMBER': passfn,\n",
    "    'LEFT': passfn,\n",
    "    'RIGHT': passfn,\n",
    "    'REACTION-DIRECTION': passfn,\n",
    "    'ENZYMATIC-REACTION': passfn,\n",
    "    'COMMON-NAME': passfn,\n",
    "})\n",
    "np.save('.'.join(fname.split('.')[:-1]), x)\n",
    "for k, v in x.items():\n",
    "    if len(v)==8:\n",
    "        break\n",
    "k, v"
   ]
  },
  {
   "cell_type": "code",
   "execution_count": 6,
   "metadata": {},
   "outputs": [
    {
     "data": {
      "text/plain": [
       "('PWY-7914',\n",
       " {'COMMON-NAME': ['coral bioluminescence'],\n",
       "  'REACTION-LAYOUT': ['(RXN-18875 (:LEFT-PRIMARIES Coelenterazines) (:DIRECTION :L2R) (:RIGHT-PRIMARIES Coelenterazin-dioxetanone))',\n",
       "   '(RXN-18867 (:LEFT-PRIMARIES CPD-20235) (:DIRECTION :L2R) (:RIGHT-PRIMARIES Excited-GFP))',\n",
       "   '(RXN-18865 (:LEFT-PRIMARIES Excited-GFP) (:DIRECTION :L2R) (:RIGHT-PRIMARIES Light))',\n",
       "   '(RXN-18866 (:LEFT-PRIMARIES Coelenterazin-dioxetanone) (:DIRECTION :L2R) (:RIGHT-PRIMARIES CPD-20235))',\n",
       "   '(RXN-18859 (:LEFT-PRIMARIES Coelenterazine-CBP) (:DIRECTION :L2R) (:RIGHT-PRIMARIES Coelenterazines))',\n",
       "   '(RXN-18858 (:LEFT-PRIMARIES Coelenterazines) (:DIRECTION :L2R) (:RIGHT-PRIMARIES Coelenterazine-CBP))',\n",
       "   '(RENILLA-LUCIFERIN-SULFOTRANSFERASE-RXN (:LEFT-PRIMARIES RENILLA-LUCIFERIN) (:DIRECTION :R2L) (:RIGHT-PRIMARIES LUCIFERYL-SULFATE))'],\n",
       "  'REACTION-LIST': ['RXN-18875',\n",
       "   'RXN-18867',\n",
       "   'RXN-18865',\n",
       "   'RXN-18866',\n",
       "   'RXN-18859',\n",
       "   'RXN-18858',\n",
       "   'RENILLA-LUCIFERIN-SULFOTRANSFERASE-RXN'],\n",
       "  'SPECIES': ['TAX-37510', 'TAX-6136']})"
      ]
     },
     "execution_count": 6,
     "metadata": {},
     "output_type": "execute_result"
    }
   ],
   "source": [
    "fname = './pathways.dat'\n",
    "x = parse(fname, 'UNIQUE-ID', {\n",
    "    'REACTION-LIST': passfn,\n",
    "    'REACTION-LAYOUT': passfn,\n",
    "    'SPECIES': passfn,\n",
    "    'SUPER-PATHWAYS': passfn,\n",
    "    'COMMON-NAME': passfn,\n",
    "    'SPECIES': passfn,\n",
    "})\n",
    "np.save('.'.join(fname.split('.')[:-1]), x)\n",
    "for k, v in x.items():\n",
    "    if len(v)==7:\n",
    "        break\n",
    "k, v"
   ]
  },
  {
   "cell_type": "code",
   "execution_count": 20,
   "metadata": {},
   "outputs": [],
   "source": [
    "import numpy as np\n",
    "\n",
    "rxn = np.load('reactions.npy', allow_pickle=True).item()"
   ]
  },
  {
   "cell_type": "code",
   "execution_count": 22,
   "metadata": {},
   "outputs": [
    {
     "data": {
      "text/plain": [
       "{'COMMON-NAME': ['2-hydroxylamino-4,6-dinitrotoluene 3-<i>C</i>-glucosyltransferase'],\n",
       " 'EC-NUMBER': ['EC-2.4.1'],\n",
       " 'ENZYMATIC-REACTION': ['ENZRXN-15437',\n",
       "  'ENZRXN-15436',\n",
       "  'ENZRXN-15435',\n",
       "  'ENZRXN-15434',\n",
       "  'ENZRXN-15433',\n",
       "  'ENZRXN-15432'],\n",
       " 'GIBBS-0': ['-9.382385'],\n",
       " 'IN-PATHWAY': ['PWY-6051'],\n",
       " 'LEFT': ['CPD-12575', 'CPD-10447'],\n",
       " 'REACTION-DIRECTION': ['LEFT-TO-RIGHT'],\n",
       " 'RIGHT': ['CPD-10449', 'UDP', 'PROTON']}"
      ]
     },
     "execution_count": 22,
     "metadata": {},
     "output_type": "execute_result"
    }
   ],
   "source": [
    "rxn['RXN-9752']"
   ]
  }
 ],
 "metadata": {
  "interpreter": {
   "hash": "d1dd530d490926bc7a750f617eae0eb50ed85b4bc6333b604eb9c83cc3a853fa"
  },
  "kernelspec": {
   "display_name": "Python 3.9.7 64-bit ('ab48': conda)",
   "language": "python",
   "name": "python3"
  },
  "language_info": {
   "codemirror_mode": {
    "name": "ipython",
    "version": 3
   },
   "file_extension": ".py",
   "mimetype": "text/x-python",
   "name": "python",
   "nbconvert_exporter": "python",
   "pygments_lexer": "ipython3",
   "version": "3.10.0"
  },
  "orig_nbformat": 4
 },
 "nbformat": 4,
 "nbformat_minor": 2
}
