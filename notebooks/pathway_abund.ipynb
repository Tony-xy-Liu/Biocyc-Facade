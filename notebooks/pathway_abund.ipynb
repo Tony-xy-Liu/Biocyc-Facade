{
 "cells": [
  {
   "cell_type": "code",
   "execution_count": 1,
   "metadata": {},
   "outputs": [],
   "source": [
    "import sys\n",
    "sys.path.append('/home/tony/workspace/python/grad/PathPred/ptools')\n",
    "sys.path = list(set(sys.path))\n",
    "import os\n",
    "from biocyc_facade.pgdb import ImportFromBiocyc, Pgdb, Dat\n",
    "from biocyc_facade.models.sql import TraceStep"
   ]
  },
  {
   "cell_type": "code",
   "execution_count": 2,
   "metadata": {},
   "outputs": [],
   "source": [
    "DB_DIR = '/home/tony/workspace/python/grad/resources/Biocyc-Facade/pgdbs'\n",
    "db = Pgdb(f'{DB_DIR}/meta')"
   ]
  },
  {
   "cell_type": "code",
   "execution_count": 3,
   "metadata": {},
   "outputs": [],
   "source": [
    "ws = db.GetDataTable(Dat.PATHWAYS)"
   ]
  },
  {
   "cell_type": "code",
   "execution_count": 7,
   "metadata": {},
   "outputs": [
    {
     "data": {
      "text/plain": [
       "['TYPES',\n",
       " 'COMMON-NAME',\n",
       " 'CITATIONS',\n",
       " 'COMMENT',\n",
       " 'CREDITS',\n",
       " 'INSTANCE-NAME-TEMPLATE',\n",
       " 'KEY-REACTIONS',\n",
       " 'PATHWAY-LINKS',\n",
       " 'PREDECESSORS',\n",
       " 'PRIMARIES',\n",
       " 'REACTION-LAYOUT',\n",
       " 'REACTION-LIST',\n",
       " 'SPECIES',\n",
       " 'TAXONOMIC-RANGE']"
      ]
     },
     "execution_count": 7,
     "metadata": {},
     "output_type": "execute_result"
    }
   ],
   "source": [
    "for k, v in ws.items():\n",
    "    break\n",
    "list(v.keys())"
   ]
  },
  {
   "cell_type": "code",
   "execution_count": 17,
   "metadata": {},
   "outputs": [],
   "source": [
    "v = ws['PWY-5899']"
   ]
  },
  {
   "cell_type": "code",
   "execution_count": 18,
   "metadata": {},
   "outputs": [
    {
     "data": {
      "text/plain": [
       "['PWY-5893', 'PWY-5895', 'PWY-5837']"
      ]
     },
     "execution_count": 18,
     "metadata": {},
     "output_type": "execute_result"
    }
   ],
   "source": [
    "v['REACTION-LIST']"
   ]
  },
  {
   "cell_type": "code",
   "execution_count": 19,
   "metadata": {},
   "outputs": [
    {
     "data": {
      "text/plain": [
       "['(FARNESYL-PP PWY-5123)', '(CHORISMATE ARO-PWY)']"
      ]
     },
     "execution_count": 19,
     "metadata": {},
     "output_type": "execute_result"
    }
   ],
   "source": [
    "v['PATHWAY-LINKS']"
   ]
  },
  {
   "cell_type": "code",
   "execution_count": 13,
   "metadata": {},
   "outputs": [],
   "source": [
    "x = [(w, n) for w, n in db.Trace(Dat.PATHWAYS, 'W-COMMON-NAME') if 'super' in n.lower()]"
   ]
  },
  {
   "cell_type": "code",
   "execution_count": 20,
   "metadata": {},
   "outputs": [],
   "source": [
    "es = db.GetDataTable(Dat.ENZRXNS)"
   ]
  },
  {
   "cell_type": "code",
   "execution_count": 21,
   "metadata": {},
   "outputs": [
    {
     "data": {
      "text/plain": [
       "('ENZRXN-16109',\n",
       " {'TYPES': ['Enzymatic-Reactions'],\n",
       "  'COMMON-NAME': ['2,4,6-trichlorophenol monooxygenase'],\n",
       "  'CITATIONS': ['12057943:EV-EXP-IDA-PURIFIED-PROTEIN-HH:3446933994:caspi'],\n",
       "  'ENZYME': ['REUT_A1585-MONOMER'],\n",
       "  'INSTANCE-NAME-TEMPLATE': ['ENZRXN-*'],\n",
       "  'PH-OPT': ['6:7.8'],\n",
       "  'PHYSIOLOGICALLY-RELEVANT?': ['T'],\n",
       "  'REACTION': ['RXN-20721'],\n",
       "  'TEMPERATURE-OPT': ['33']})"
      ]
     },
     "execution_count": 21,
     "metadata": {},
     "output_type": "execute_result"
    }
   ],
   "source": [
    "for k, v in es.items():\n",
    "    break\n",
    "k, v"
   ]
  }
 ],
 "metadata": {
  "interpreter": {
   "hash": "2435c7440461fadc5a1d9e864caea4455b848895712cb9bd14333ad40094f801"
  },
  "kernelspec": {
   "display_name": "Python 3.10.0 ('p310')",
   "language": "python",
   "name": "python3"
  },
  "language_info": {
   "codemirror_mode": {
    "name": "ipython",
    "version": 3
   },
   "file_extension": ".py",
   "mimetype": "text/x-python",
   "name": "python",
   "nbconvert_exporter": "python",
   "pygments_lexer": "ipython3",
   "version": "3.10.0"
  },
  "orig_nbformat": 4
 },
 "nbformat": 4,
 "nbformat_minor": 2
}
